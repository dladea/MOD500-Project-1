{
 "cells": [
  {
   "cell_type": "markdown",
   "id": "b6d18ba3",
   "metadata": {
    "editable": true
   },
   "source": [
    "<!-- dom:TITLE: The tip of the iceberg or Automatic for the people -->\n",
    "# The tip of the iceberg or Automatic for the people\n",
    "**MOD510: Mandatory project 1**  \n",
    "**Deadline: 16. September 2024 (23:59)**\n",
    "\n",
    "Date: **Sept. 4, 2024**\n",
    "\n",
    "**Learning objectives.**\n",
    "By completing this project, the student will:\n",
    "* Get experience in structuring and writing a report.\n",
    "\n",
    "* Write new functions and classes in Python.\n",
    "\n",
    "* Explore numerical round-off and truncation errors.\n",
    "\n",
    "* Be introduced to useful Python libraries for scientific computing.\n",
    "\n",
    "**Abstract.** Because computers have finite memory, numerical errors must always\n",
    "be taken into account when doing calculations, especially when\n",
    "working with floating-point numbers [[Goldberg, 1991]](#goldberg1991every).\n",
    "In the first parts of this project we investigate round-off errors and\n",
    "truncation errors using the Python programming language, and we\n",
    "discuss how different implementation strategies affect code\n",
    "efficiency and code clarity. In particular, we show how coding with\n",
    "classes can simplify the implementation of numerical algorithms.\n",
    "Finally, you can choose *one* of the following two topics: i) use the power of available Python libraries to quickly visualize and manipulate large data sets. To this end, we\n",
    "look at how ice melting in Antarctica could affect\n",
    "sea level rise [[Fretwell et al., 2013]](#fretwell2013bedmap2), ii) automatic differentiation [[Wengert, 1964]](#wengert1964simple) to illustrate the power of object oriented programming. Automatic differentiation is a cornerstone in training neural networks and in many commercial simulation codes.\n",
    "\n",
    "Remember to take a look in the Appendix for some tips, and read the guidelines for project submission at the end!"
   ]
  },
  {
   "cell_type": "code",
   "execution_count": null,
   "id": "1f5be4a9",
   "metadata": {},
   "outputs": [],
   "source": [
    "#Import all necessary libraries\n",
    "import numpy as np\n",
    "import matplotlib.pyplot as plt\n",
    "import rockhound as rh\n",
    "import cmocean"
   ]
  },
  {
   "cell_type": "markdown",
   "id": "a039eb09",
   "metadata": {
    "editable": true
   },
   "source": [
    "<!-- ======= Introduction   ======= -->\n",
    "\n",
    "\n",
    "\n",
    "# Exercise 1: Finite-precision arithmetic\n",
    "<div id=\"ex:round_err\"></div>\n",
    "\n",
    "**Part 1.**\n",
    "\n",
    "Run the following code snippet:"
   ]
  },
  {
   "cell_type": "code",
   "execution_count": 1,
   "id": "1015ecab",
   "metadata": {
    "collapsed": false,
    "editable": true
   },
   "outputs": [
    {
     "data": {
      "text/plain": [
       "sys.float_info(max=1.7976931348623157e+308, max_exp=1024, max_10_exp=308, min=2.2250738585072014e-308, min_exp=-1021, min_10_exp=-307, dig=15, mant_dig=53, epsilon=2.220446049250313e-16, radix=2, rounds=1)"
      ]
     },
     "execution_count": 1,
     "metadata": {},
     "output_type": "execute_result"
    }
   ],
   "source": [
    "import sys\n",
    "sys.float_info"
   ]
  },
  {
   "cell_type": "markdown",
   "id": "f90cc983",
   "metadata": {
    "editable": true
   },
   "source": [
    "* Explain the meaning of the numbers that are printed out.\n",
    "\n",
    "Hint: Read the lecture material on the IEEE Standard for floating-point arithmetic.\n",
    "\n",
    "sys.float_inf describes the float representation in the system based on IEEE 754-1985 standard.\n",
    "\n",
    "\n",
    "|    Parameter    |    Description    |\n",
    "|:---------------|:------------------|\n",
    "| **max**         | Highest positive finite number that can be represented by the system        |\n",
    "| **max_exp**     | Maximum exponent in binary basis that can be represented by the system      |\n",
    "| **max_10_exp**  | Maximum exponent in 10-digit basis that can be represented by the system    |\n",
    "| **min_exp**     | Minimum exponent in binary basis that can be represented by the system      |\n",
    "| **min_10_exp**  | Minimum exponent in 10-digit basis that can be represented by the system    |\n",
    "| **dig**         | Maximum number of decimal digits that can be represented                    |\n",
    "| **mant_dig**    | Mantissa digit, or the float precision                                      |\n",
    "| **epsilon**     | Least value, so that $1.0 + \\epsilon$ is not representable as a float 1.0   |\n",
    "| **radix**       | The radix of exponent representation                                        |\n",
    "| **rounds**      | Integer that represents the rounding mode for float, rounds=1 means that <br> the rounding-off for the float in the system is \"to the nearest\" |\n",
    "\n"
   ]
  },
  {
   "cell_type": "markdown",
   "id": "c468d5ae",
   "metadata": {
    "editable": true
   },
   "source": [
    "**Part 2.**\n",
    "\n",
    "* Show how you can calculate the printed-out values `max`, `min`, `epsilon` yourself (again, based on the IEEE standard).\n",
    "\n",
    "Based on IEEE754-1985 standard, float representation in 64-bits system is consist of 1 bit for signs, 11 bits for exponent, and 52 bits for fraction. The exponent can be positive to represent value greater than 1 or negative to represent value less than 1. It is written as +-q2^{E-e}. The number of bias, e, is fixed, in 64-bits system e = 1023.\n",
    "The value of exponent is represented by 11 bits so it can take value from 0 to $\\(2^{11}\\)-1=2047. E=0 and E=2047 is reserved for special number which are negative infinity and infinity respectively.\n",
    "\n",
    "**Calculate max**\n",
    "The maximum value is when all the bits in Fraction is 1, so that\n",
    "1.1111 (48 more ones) . 2^{1023} = \n",
    "\n",
    "**Calculate min**\n",
    "1.\n",
    "\n",
    "**Calculate epsilon**"
   ]
  },
  {
   "cell_type": "markdown",
   "id": "0c2f274d",
   "metadata": {
    "editable": true
   },
   "source": [
    "**Part 3.**\n",
    "\n",
    "In Python, typing `0.1+0.2` does not (typically) produce the same output as `0.3`.\n",
    "\n",
    "* Why not?\n",
    "\n",
    "Because the computer can not represent float 0.2 exactly. Rather it represent something close to 0.2. Hence, 0.1+0.2 is not the same as 0.3."
   ]
  },
  {
   "cell_type": "markdown",
   "id": "44ce2d43",
   "metadata": {
    "editable": true
   },
   "source": [
    "**Part 4.**\n",
    "\n",
    "* Would you use the `==`-operator to test whether two floating-point numbers are equal?\n",
    "\n",
    "No, because of the floating point representation. \n",
    "\n",
    "* Why / why not? Can you think of alternative ways to do floating-point number comparison?\n",
    "\n",
    "\n",
    "\n"
   ]
  },
  {
   "cell_type": "markdown",
   "id": "a82fdf30",
   "metadata": {},
   "source": [
    "\n",
    "# Exercise 2: Get up to speed with NumPy\n",
    "<div id=\"exer:numpy\"></div>\n",
    "\n",
    "The purpose of this exercise is to learn a little bit about\n",
    "[NumPy](https://numpy.org/), which is an incredibly useful Python library.\n",
    "A major reason for its popularity is efficiency: doing computations with NumPy\n",
    "arrays (objects of the type `ndarray`) instead of using native Python lists (vanilla Python) can,\n",
    "by itself, speed up a program by several orders of magnitude!\n",
    "The mechanism for speed-up is [vectorized computation](https://www.oreilly.com/library/view/python-for-data/9781449323592/ch04.html).\n",
    "\n",
    "**Vectorized functions.**\n",
    "\n",
    "Using NumPy arrays allows you to create vectorized functions; functions that\n",
    "operate on a whole array at once, rather than looping over the elements\n",
    "one-by-one inside a custom written loop.\n",
    "\n",
    "The way vectorization works behind the scenes is still via loops\n",
    "(optimized, pre-compiled C code), but as Python programmer you do not need\n",
    "to worry about the details.\n",
    "\n",
    "\n",
    "\n",
    "**Part 1.**\n",
    "\n",
    "The following code block gives an example of a vectorized function:"
   ]
  },
  {
   "cell_type": "code",
   "execution_count": 3,
   "id": "e7839c66",
   "metadata": {
    "collapsed": false,
    "editable": true
   },
   "outputs": [
    {
     "data": {
      "text/plain": [
       "array([1.        , 0.89483932, 0.8007374 , 0.71653131, 0.64118039,\n",
       "       0.57375342, 0.51341712, 0.45942582, 0.41111229, 0.36787944])"
      ]
     },
     "execution_count": 3,
     "metadata": {},
     "output_type": "execute_result"
    }
   ],
   "source": [
    "import numpy as np\n",
    "\n",
    "x = np.linspace(0, 1, 10)\n",
    "np.exp(x)  # Apply f(t)=exp(t) to each element in the array x.\n",
    "np.exp(-x)  # Apply the function f(t)=exp(-t) to each element of x."
   ]
  },
  {
   "cell_type": "markdown",
   "id": "a19024b4",
   "metadata": {},
   "source": [
    "Notice the usage of `np.exp` instead of using the exponential function provided\n",
    "in the built-in [math](https://docs.python.org/3/library/math.html)\n",
    "library; this is an example of a\n",
    "[universal function](https://docs.scipy.org/doc/numpy/reference/ufuncs.html).\n",
    "\n",
    "* Create a native Python list of the same size as `x` and holding the same values. Apply the same two function calls to this list, i.e. `np.exp(x)` and `np.exp(-x)`. Explain what happens.\n",
    "\n",
    "* How would you generally evaluate a function on all elements of a native Python list? (as opposed to a NumPy array)\n",
    "\n",
    "**Part 2.**\n",
    "\n",
    "As already hinted at, the NumPy library comes with a plethora of useful\n",
    "features and functions. The code snippets below show some examples:"
   ]
  },
  {
   "cell_type": "code",
   "execution_count": 5,
   "id": "a04d88f6",
   "metadata": {
    "collapsed": false,
    "editable": true
   },
   "outputs": [
    {
     "data": {
      "text/plain": [
       "array([0., 0., 0., 0., 0., 0., 0., 0., 0., 0., 0., 0., 0., 0., 0., 0., 0.,\n",
       "       0., 0., 0.])"
      ]
     },
     "execution_count": 5,
     "metadata": {},
     "output_type": "execute_result"
    }
   ],
   "source": [
    "np.zeros(20)"
   ]
  },
  {
   "cell_type": "code",
   "execution_count": 6,
   "id": "0bebbde9",
   "metadata": {
    "collapsed": false,
    "editable": true
   },
   "outputs": [
    {
     "data": {
      "text/plain": [
       "array([1., 1., 1., 1., 1., 1., 1., 1., 1., 1., 1., 1., 1., 1., 1., 1., 1.,\n",
       "       1., 1., 1.])"
      ]
     },
     "execution_count": 6,
     "metadata": {},
     "output_type": "execute_result"
    }
   ],
   "source": [
    "np.ones(20)"
   ]
  },
  {
   "cell_type": "code",
   "execution_count": 7,
   "id": "500851a1",
   "metadata": {
    "collapsed": false,
    "editable": true
   },
   "outputs": [
    {
     "data": {
      "text/plain": [
       "array([ 0.,  1.,  2.,  3.,  4.,  5.,  6.,  7.,  8.,  9., 10.])"
      ]
     },
     "execution_count": 7,
     "metadata": {},
     "output_type": "execute_result"
    }
   ],
   "source": [
    "np.linspace(0, 10, 11)"
   ]
  },
  {
   "cell_type": "code",
   "execution_count": 8,
   "id": "801bcae3",
   "metadata": {
    "collapsed": false,
    "editable": true
   },
   "outputs": [
    {
     "data": {
      "text/plain": [
       "array([0.        , 0.90909091, 1.81818182, 2.72727273, 3.63636364,\n",
       "       4.54545455, 5.45454545, 6.36363636, 7.27272727, 8.18181818,\n",
       "       9.09090909])"
      ]
     },
     "execution_count": 8,
     "metadata": {},
     "output_type": "execute_result"
    }
   ],
   "source": [
    "np.linspace(0, 10, 11, endpoint=False)"
   ]
  },
  {
   "cell_type": "code",
   "execution_count": 9,
   "id": "5d48a0ae",
   "metadata": {
    "collapsed": false,
    "editable": true
   },
   "outputs": [
    {
     "data": {
      "text/plain": [
       "array([ 2,  4,  6,  8, 10])"
      ]
     },
     "execution_count": 9,
     "metadata": {},
     "output_type": "execute_result"
    }
   ],
   "source": [
    "vector = np.arange(5) + 1\n",
    "2*vector"
   ]
  },
  {
   "cell_type": "markdown",
   "id": "faba97da",
   "metadata": {
    "editable": true
   },
   "source": [
    "* Explain what each line of code does.\n",
    "\n",
    "* How would you produce the same output using native Python lists?\n",
    "\n",
    "**Part 3.**\n",
    "\n",
    "Frequently you will want to extract a subset of values from an array based\n",
    "on some kind of criterion. For example, you might want to count the number\n",
    "of non-zero numbers, or identify all values exceeding a certain threshold.\n",
    "With NumPy, suchs tasks are easily achieved using\n",
    "[boolean masking](https://jakevdp.github.io/PythonDataScienceHandbook/02.06-boolean-arrays-and-masks.html), e.g.:"
   ]
  },
  {
   "cell_type": "code",
   "execution_count": 10,
   "id": "c869d884",
   "metadata": {
    "collapsed": false,
    "editable": true
   },
   "outputs": [
    {
     "name": "stdout",
     "output_type": "stream",
     "text": [
      "There are 7 non-zero numbers in the array.\n"
     ]
    }
   ],
   "source": [
    "array_of_numbers = np.array([4, 8, 15, 16, 23, 42,0,5])\n",
    "nnz = np.count_nonzero(array_of_numbers)\n",
    "print(f'There are {nnz} non-zero numbers in the array.')\n",
    "is_even = (array_of_numbers % 2 == 0)\n",
    "is_greater_than_17 = (array_of_numbers > 17)\n",
    "is_even_and_greater_than_17 = is_even & is_greater_than_17"
   ]
  },
  {
   "cell_type": "markdown",
   "id": "5b200ecc",
   "metadata": {
    "editable": true
   },
   "source": [
    "However, neither of the following codes lines will execute:"
   ]
  },
  {
   "cell_type": "code",
   "execution_count": null,
   "id": "6e9de298",
   "metadata": {
    "collapsed": false,
    "editable": true
   },
   "outputs": [],
   "source": [
    "is_even_and_greater_than_17 = is_even and is_greater_than_17\n",
    "print(array_of_numbers % 2 == 0 & array_of_numbers > 17)"
   ]
  },
  {
   "cell_type": "markdown",
   "id": "57c28a0f",
   "metadata": {
    "editable": true
   },
   "source": [
    "* Explain why this code fails.\n",
    "\n",
    "* Use [`np.logical_and`](https://numpy.org/doc/stable/reference/generated/numpy.logical_and.html) to make the code work \n",
    "\n",
    "\n",
    "**Part 4.**\n",
    "\n",
    "The function [np.where](https://numpy.org/doc/stable/reference/generated/numpy.where.html)\n",
    "can also be used to select elements from an array.\n",
    "\n",
    "* Explain the output of the following two lines of code:"
   ]
  },
  {
   "cell_type": "code",
   "execution_count": null,
   "id": "d72ff5f6",
   "metadata": {
    "collapsed": false,
    "editable": true
   },
   "outputs": [],
   "source": [
    "np.where(array_of_numbers > 17)[0]"
   ]
  },
  {
   "cell_type": "code",
   "execution_count": null,
   "id": "4b6a96cc",
   "metadata": {
    "collapsed": false,
    "editable": true
   },
   "outputs": [],
   "source": [
    "np.where(array_of_numbers > 17, 1, 0)"
   ]
  },
  {
   "cell_type": "markdown",
   "id": "dccdb09f",
   "metadata": {
    "editable": true
   },
   "source": [
    "# Exercise 3, Part I: Finite Differences (FD) with Functions\n",
    "\n",
    "In scientific computing one often needs to calculate derivatives of functions.\n",
    "For problems encountered in practice, exact formulas may not be available,\n",
    "in which case numerical estimates are needed. However, to evaluate the\n",
    "correctness of our programmed numerical methods, it is still a very good idea\n",
    "to test the code on simple functions where the derivative is known.\n",
    "\n",
    "In this exercise, we consider a function that is relevant for describing wave\n",
    "phenomena:"
   ]
  },
  {
   "cell_type": "markdown",
   "id": "d371d6ce",
   "metadata": {
    "editable": true
   },
   "source": [
    "$$f(x) = \\sin(bx)\\cdot e^{-ax^2}\\hspace{35pt}\\text{(1)}$$"
   ]
  },
  {
   "cell_type": "markdown",
   "id": "2b16af8a",
   "metadata": {
    "editable": true
   },
   "source": [
    "One way to implement the [function in Python](https://realpython.com/defining-your-own-python-function/) is:"
   ]
  },
  {
   "cell_type": "code",
   "execution_count": 1,
   "id": "b4e321a7",
   "metadata": {
    "collapsed": false,
    "editable": true
   },
   "outputs": [],
   "source": [
    "def f(x, a=0.1, b=10):\n",
    "    return np.sin(b*x)*np.exp(-a*x*x)"
   ]
  },
  {
   "cell_type": "markdown",
   "id": "6756702e",
   "metadata": {
    "editable": true
   },
   "source": [
    "We have chosen to define `a` and `b` as *default arguments*, which allows us to evaluate the function at $x=1$ by simply typing `f(1)`;\n",
    "this is equivalent to the command `f(1, 0.1, 10)`. If you want to change the `b` parameter, you can do, e.g., `f(1, b=2)`.\n",
    "Note also that the function works both when `x` is a single number *and* when it is a Numpy array. This is because we use the Numpy versions of the sine (`np.sin`) and exponential (`np.exp`) functions.\n",
    "\n",
    "**Python functions are first-class!**\n",
    "\n",
    "An important feature of Python is that functions are\n",
    "[first-class objects](https://en.wikipedia.org/wiki/First-class_function),\n",
    "meaning that you can assign them to variables, you can store them inside\n",
    "various containers and data structures, they can be passed as input arguments\n",
    "to other functions, and they may be return values of other functions.\n",
    "\n",
    "\n",
    "\n",
    "We will exploit this property of Python several times during this project.\n",
    "\n",
    "**Part 1.**\n",
    "\n",
    "It is always a good idea to start by visualizing the function in a plot.\n",
    "\n",
    "* Make a Python function that plots $f(x)$ from equation ([1](#eq:p1:f)) over an arbitrary closed interval.\n",
    "\n",
    "* Use the function to plot $f(x)$ in the range $[-10,10]$. Try to make your figure similar to the one shown in [figure 1](#fig:p1:wave)\n",
    "\n",
    "<!-- dom:FIGURE: [fig-project1/wave.png, frac=1.0] A plot of $f(x)$. <div id=\"fig:p1:wave\"></div> -->\n",
    "<!-- begin figure -->\n",
    "<div id=\"fig:p1:wave\"></div>\n",
    "\n",
    "<img src=\"./fig-project1/wave.png\" ><p style=\"font-size: 0.9em\"><i>Figure 1: A plot of $f(x)$.</i></p>\n",
    "<!-- end figure -->\n"
   ]
  },
  {
   "cell_type": "code",
   "execution_count": 2,
   "id": "712e7247",
   "metadata": {},
   "outputs": [
    {
     "data": {
      "image/png": "[encoded data removed]",
      "text/plain": [
       "<Figure size 640x480 with 1 Axes>"
      ]
     },
     "metadata": {},
     "output_type": "display_data"
    }
   ],
   "source": [
    "import numpy as np\n",
    "import matplotlib.pyplot as plt\n",
    "def plot_f(function, min, max, h=0.01):\n",
    "    \"\"\"Plot the function f in the interval [min, max].\"\"\"\n",
    "    x = np.arange(min, max, h)\n",
    "    y = function(x)\n",
    "    fig = plt.figure()\n",
    "    plt.plot(x, y)\n",
    "    plt.grid()\n",
    "\n",
    "plot_f(f, -10, 10)\n",
    "    "
   ]
  },
  {
   "cell_type": "markdown",
   "id": "6eed38ba",
   "metadata": {},
   "source": [
    "\n",
    "**Part 2.**\n",
    "\n",
    "The analytical derivative of $f(x)$ is"
   ]
  },
  {
   "cell_type": "markdown",
   "id": "3df75d6c",
   "metadata": {
    "editable": true
   },
   "source": [
    "$$f^\\prime(x) =b \\cos(bx)\\cdot e^{-ax^2} - 2ax\\sin(bx)\\cdot e^{-ax^2}\\hspace{35pt}\\text{(2)}$$\n",
    "\n",
    "* Write a Python function that calculates the derivative defined in equation ([2](#eq:p1:ana)) (*not* the numerical derivative)\n"
   ]
  },
  {
   "cell_type": "code",
   "execution_count": 3,
   "id": "467d5792",
   "metadata": {},
   "outputs": [],
   "source": [
    "def analytical_derivative(x, a=0.1, b=10):\n",
    "    return (b*np.cos(b*x) - 2*a*x*np.sin(b*x))*np.exp(-a*x*x)"
   ]
  },
  {
   "cell_type": "markdown",
   "id": "1028e417",
   "metadata": {
    "editable": true
   },
   "source": [
    "**Part 3.**\n",
    "\n",
    "Next, you are going to write a Python function that calculates the numerical\n",
    "derivative of an *arbitrary* single-variable function `f` at a point $x$\n",
    "using finite differences.\n",
    "\n",
    "* Write a Python function that calculates the derivative of an arbitrary function using the *forward difference* method (see section 3.3 in [[Hiorth, 2024]](#hiorth) ).\n",
    "\n",
    "* Apply your function to the particular case of equation ([1](#eq:p1:f)) and $x=1$. Use a suitable value of $h$, e.g. $h=1e-2$, and check that your estimate agrees reasonably well with the *analytical solution*.\n",
    "\n",
    "Hint: Check out some tips in Appendix A, we would recommend to use the [args](https://realpython.com/python-kwargs-and-args/) possibility in Python to write a numerical derivative function. See also section 1.3.4 in [[Hiorth, 2024]](#hiorth).\n"
   ]
  },
  {
   "cell_type": "code",
   "execution_count": 4,
   "id": "6bd1107d",
   "metadata": {},
   "outputs": [
    {
     "name": "stdout",
     "output_type": "stream",
     "text": [
      "Numerical result: -7.220096595246589\n",
      "Analytical result: -7.493783027703379\n"
     ]
    }
   ],
   "source": [
    "def forward_difference(func, x, h=1E-2, *args):\n",
    "    return (func(x + h) - func(x))/h\n",
    "\n",
    "numerical_resutl = forward_difference(f, 1)\n",
    "analytical_result = analytical_derivative(1)\n",
    "print(f'Numerical result: {numerical_resutl}')\n",
    "print(f'Analytical result: {analytical_result}')\n"
   ]
  },
  {
   "cell_type": "markdown",
   "id": "5e61823a",
   "metadata": {},
   "source": [
    "It is shown from the code in the cell aboce that the numerical derivative of the function $f(x)$ at $x=1$ is $-7.220096$ and the analytical derivative is $-7.493783$. As the error is $0.273687$, the numerical derivative is in good agreement with the analytical solution."
   ]
  },
  {
   "cell_type": "markdown",
   "id": "eb2e7945",
   "metadata": {},
   "source": [
    "**Part 4.**\n",
    "\n",
    "* Write another Python function that calculates $f^{\\prime}(x)$ with the *central difference* method (see section 3.4 in [[Hiorth, 2024]](#hiorth)).\n"
   ]
  },
  {
   "cell_type": "code",
   "execution_count": 5,
   "id": "9ffc4c09",
   "metadata": {},
   "outputs": [],
   "source": [
    "def central_difference(func, x, h=1E-2, *args):\n",
    "    return (func(x + h) - func(x - h))*0.5/h"
   ]
  },
  {
   "cell_type": "code",
   "execution_count": 6,
   "id": "c038a9fd",
   "metadata": {},
   "outputs": [
    {
     "name": "stdout",
     "output_type": "stream",
     "text": [
      "Analytical result: -7.493783027703379\n",
      "Numerical result: -7.220096595246589\n",
      "Central difference result: -7.481567749530806\n",
      "0.27368643245679003\n",
      "0.012215278172572397\n"
     ]
    }
   ],
   "source": [
    "#CHECK CODE, TO BE DELETED\n",
    "print(f'Analytical result: {analytical_result}')\n",
    "print(f'Numerical result: {numerical_resutl}')\n",
    "print(f'Central difference result: {central_difference(f, 1)}')\n",
    "print(numerical_resutl-analytical_result)\n",
    "print(central_difference(f, 1)-analytical_result)"
   ]
  },
  {
   "cell_type": "markdown",
   "id": "23e8c84b",
   "metadata": {},
   "source": [
    "**Part 5.**\n",
    "\n",
    "Next, we wish to quantify the error in our numerical derivative approximations for the point $x=1$.\n",
    "\n",
    "* For each of the two derivative approximations to $f^{\\prime}(1)$ (forward difference and central difference), make a scatter plot that shows the *absolute error* of the approximation on the $y$-axis versus the step size, $h$, on the $x$-axis. Include both error curves in the same figure. The step sizes should be varied logarithmically between $h=10^{-16}$ and $h=10^0=1$.\n",
    "\n",
    "* Comment on what you observe in the figure you made. When is the numerical error smallest, and why? Is it what you expect from a theoretical analysis using Taylor's formula?\n"
   ]
  },
  {
   "cell_type": "code",
   "execution_count": 7,
   "id": "28173890",
   "metadata": {},
   "outputs": [
    {
     "data": {
      "text/plain": [
       "Text(0, 0.5, 'Numerical Error')"
      ]
     },
     "execution_count": 7,
     "metadata": {},
     "output_type": "execute_result"
    },
    {
     "data": {
      "image/png": "[encoded data removed]",
      "text/plain": [
       "<Figure size 640x480 with 1 Axes>"
      ]
     },
     "metadata": {},
     "output_type": "display_data"
    }
   ],
   "source": [
    "fig = plt.figure()\n",
    "step = np.logspace(-16, 0, 50)\n",
    "x = 1\n",
    "error_forward = [abs(forward_difference(f, x, h) - analytical_derivative(x)) for h in step]\n",
    "error_central = [abs(central_difference(f, x, h) - analytical_derivative(x)) for h in step]\n",
    "plt.plot(step, error_forward, '-o', label='Forward difference')\n",
    "plt.plot(step, error_central, '-x', label='Central difference')\n",
    "\n",
    "plt.grid()\n",
    "plt.legend(loc='best')\n",
    "plt.xscale('log')\n",
    "plt.yscale('log')\n",
    "plt.xlabel('Step size')\n",
    "plt.ylabel('Numerical Error')\n",
    "\n"
   ]
  },
  {
   "cell_type": "code",
   "execution_count": 8,
   "id": "d5562544",
   "metadata": {},
   "outputs": [
    {
     "name": "stdout",
     "output_type": "stream",
     "text": [
      "Step size that make the error smallest is: 3.23745754281764e-09, which makes the error: 4.470101355735778e-08\n",
      "Step size that make the error smallest for central difference method is 1.3257113655901055e-06, which makes the error: 3.326467989950288e-10\n"
     ]
    }
   ],
   "source": [
    "#return the step size that make the error smallest based on numerical calculation\n",
    "print(f'Step size that make the error smallest is: {step[error_forward.index(min(error_forward))]}, which makes the error: {min(error_forward)}')   \n",
    "print(f'Step size that make the error smallest for central difference method is {step[error_central.index(min(error_central))]}, which makes the error: {min(error_central)}')\n",
    "\n"
   ]
  },
  {
   "cell_type": "markdown",
   "id": "d15ab9a7",
   "metadata": {},
   "source": [
    "Numerical error is a sum of truncation error and round-off error, while truncation error is proportional to $h$, round-off error is inversely proportional to $h$. Theoritical analysis using Taylor's formula for forward difference and central difference shown in equations below. \n",
    "\n",
    "\n",
    "\n",
    "**Forward Difference**  \n",
    "The total error of the forward difference method is given by: \n",
    "\n",
    "\\begin{equation*}\n",
    "R_1 = \\frac{h}{2} |f''(\\eta)| + \\frac{2 \\epsilon |f(x)|}{h}\n",
    "\\end{equation*}\n",
    "The step size that minimizes the total error is known by differentiating the $R_1$ with respect to $h$ and put it equal to zero. The optimal step size is given by:\n",
    "\n",
    "\\begin{equation*}\n",
    "h = 2 \\sqrt{\\epsilon |\\frac{f(x)}{f''(\\eta)}|} \n",
    "\\end{equation*}\n",
    "The approximation value of $f(1)$ and $f''(1)$ is $-0.49$ and $52.34$ respectively. By inserting those values into the equation above, the optimal step size is $9.68 \\cdot 10^{-10}$.\n",
    "\n",
    "**Central Difference**  \n",
    "The total error of the central difference method is given by:\n",
    "\n",
    "\\begin{equation*}\n",
    "R_2 = \\frac{h^2}{6} |f'''(\\eta)| + \\frac{2 \\epsilon |f(x)|}{h}\n",
    "\\end{equation*}\n",
    "By doing the same procedure as above, the optimal step size is given by:\n",
    "\\begin{equation*}\n",
    "h = \\sqrt[3]{6 \\epsilon |\\frac{f(x)}{f'''(\\eta)}|} \n",
    "\\end{equation*}\n",
    "By using the approximation value of $f(1)$ and $f'''(1)$, which are $-0.49$ and $733.28$ the optimal step size is $7.37 \\cdot 10^{-7}$.\n",
    "\n",
    "Based on the scatter plot above, the numerical error is the smallest when step size, h, is around $10^{-9}$ for approximation using forward difference and $10^{-7}$ for central difference which is consistent with the theoretical analysis using Taylor's formula.\n",
    "\n",
    "\n",
    "\n",
    "\n"
   ]
  },
  {
   "cell_type": "markdown",
   "id": "831a0178",
   "metadata": {},
   "source": [
    "\n",
    "# Exercise 3, Part II: FD with Classes\n",
    "<div id=\"exer:fd_classes\"></div>\n",
    "\n",
    "Implementing numerical algorithms with free functions, as we did in the\n",
    "previous exercise, is perfectly fine, and you can complete the course by only\n",
    "coding in this way. However, experience has taught us that it is easy to\n",
    "introduce unnecessary errors when using this approach. In many cases you\n",
    "are better off by also using classes, and maybe [object-oriented design](https://realpython.com/python3-object-oriented-programming/).\n",
    "In this exercise, you will get some practice in coding with classes.\n",
    "This knowledge will come in handy in later projects, and in any case\n",
    "it is a good tool to have in your programming toolkit.\n",
    "\n",
    "Previously, we worked with a function having two input parameters, $a$ and $b$.\n",
    "Implementing numerical algorithms using free functions was then simple.\n",
    "However, in a more complicated situation there\n",
    "could be dozens, or even hundreds, of parameters to keep track of.\n",
    "Most of these parameters might have fixed values, but frequently you will\n",
    "want to re-run a model with slightly different parameters than before.\n",
    "If you are not using classes, it is very easy to use the wrong parameters.\n",
    "This is especially true when working in a Jupyter notebook, because then it is\n",
    "possible to run code blocks in any order. If you forget to excute a cell that is\n",
    "responsible for updating one of your variables, your subsequent calculations\n",
    "might use incorrect input, and thus end up being wrong!\n",
    "\n",
    "**Key take-away: Classes provide encapsulation.**\n",
    "\n",
    "By wrapping parts of your code into classes, and particular realizations of\n",
    "classes (objects), you facilitate code re-use, and it can make your code\n",
    "easier to understand and work with, thus reducing the probability of\n",
    "introducing bugs which may be hard to track down.\n",
    "\n",
    "\n",
    "\n",
    "## A Crash Course on Classes\n",
    "<div id=\"exer:crash_course\"></div>\n",
    "\n",
    "To get started, there are really only a couple of things you need to know.\n",
    "First, all of your classes should include a special function called `__init__`,\n",
    "in which you declare the variables (attributes) you wish an instance / object\n",
    "of the class to keep track of.\n",
    "\n",
    "Second, when setting, updating, or fetching attributes stored within the class,\n",
    "you should always use the prefix `self`, followed by a dot.\n",
    "Furthermore, the functions you define inside the class should have `self` as\n",
    "the first function argument ([there are exceptions](https://realpython.com/python3-object-oriented-programming/),\n",
    "but we will not consider that in this project).\n",
    "All of this is best understood via an example:"
   ]
  },
  {
   "cell_type": "code",
   "execution_count": 9,
   "id": "a08f8e81",
   "metadata": {
    "collapsed": false,
    "editable": true
   },
   "outputs": [],
   "source": [
    "class WavePacket:\n",
    "    \"\"\"\n",
    "    A class representation of a wave packet-function.\n",
    "    \"\"\"\n",
    "    def __init__(self, a, b):\n",
    "        self.a = a\n",
    "        self.b = b\n",
    "\n",
    "    def f(self, x):\n",
    "        return np.sin(self.b*x)*np.exp(-self.a*x*x)\n",
    "\n",
    "    def plot(self, x_min=-10, x_max=10, dx=0.01):\n",
    "        \"\"\"\n",
    "        A simple plotting routine for plotting f(x) in some range.\n",
    "        \"\"\"\n",
    "        x = np.arange(x_min, x_max, dx)\n",
    "        y = self.f(x)\n",
    "        fig = plt.figure()\n",
    "        plt.plot(x, y)\n",
    "        plt.grid()"
   ]
  },
  {
   "cell_type": "markdown",
   "id": "a77bf7d4",
   "metadata": {
    "editable": true
   },
   "source": [
    "Besides the initialization method and a function that calculates $f(x)$ from\n",
    "equation ([1](#eq:p1:f)), the class includes a simple plotting routine.\n",
    "A major difference from before is the following: when our function $f(x)$\n",
    "is defined inside a class, we do not have to pass around $a$ and $b$ as\n",
    "arguments to the function `f`. Instead, we simply access $a$ and $b$ from\n",
    "inside the class itself (using the `self`-prefix).\n",
    "<!--  -->\n",
    "<!-- both when referring to the variables / attributes, and as the first input -->\n",
    "<!-- argument to the function. -->\n",
    "\n",
    "Below is an example of how to use the class:"
   ]
  },
  {
   "cell_type": "code",
   "execution_count": 10,
   "id": "79cd1b40",
   "metadata": {
    "collapsed": false,
    "editable": true
   },
   "outputs": [
    {
     "name": "stdout",
     "output_type": "stream",
     "text": [
      "0.8227663359156917\n",
      "-0.49225065733419177\n"
     ]
    },
    {
     "data": {
      "image/png": "[encoded data removed]",
      "text/plain": [
       "<Figure size 640x480 with 1 Axes>"
      ]
     },
     "metadata": {},
     "output_type": "display_data"
    },
    {
     "data": {
      "image/png": "[encoded data removed]",
      "text/plain": [
       "<Figure size 640x480 with 1 Axes>"
      ]
     },
     "metadata": {},
     "output_type": "display_data"
    }
   ],
   "source": [
    "# Create two WavePacket objects, having their own parameter values\n",
    "WP1 = WavePacket(0.1, 2)  # a=0.1, b=2\n",
    "WP2 = WavePacket(0.1, 10)  # a = 0.1, b=10\n",
    "\n",
    "# Evaluate the two functions at a specific point\n",
    "x = 1\n",
    "print(WP1.f(x))\n",
    "print(WP2.f(x))\n",
    "\n",
    "# Plot the two functions\n",
    "WP1.plot()\n",
    "WP2.plot()"
   ]
  },
  {
   "cell_type": "markdown",
   "id": "e0afe546",
   "metadata": {
    "editable": true
   },
   "source": [
    "Although we had to write slightly more code, we hope you appreciate\n",
    "how easy this makes running parallel simulations with different parameters.\n",
    "Actually, Python provides a way for us to simplify even further, by\n",
    "defining the special [`__call__`](https://www.realpythonproject.com/python-magic-oop-dunder/)  method for the class:"
   ]
  },
  {
   "cell_type": "code",
   "execution_count": 11,
   "id": "4feb4905",
   "metadata": {
    "collapsed": false,
    "editable": true
   },
   "outputs": [],
   "source": [
    "class FancyWavePacket:\n",
    "    \"\"\"\n",
    "    A slightly more fancy class representation of a wave packet-function.\n",
    "\n",
    "    In this version, we define the dunder (double-underscore) method __call__,\n",
    "    which lets us treat objects of the class as if they were real functions!\n",
    "    \"\"\"\n",
    "    def __init__(self, a, b):\n",
    "        self.a = a\n",
    "        self.b = b\n",
    "\n",
    "    def __call__(self, x):\n",
    "        return np.sin(self.b*x)*np.exp(-self.a*x*x)\n",
    "    \n",
    "    def analytical_derivative(self, x):\n",
    "        \"\"\"Calculate the analytical derivative of f at x.\"\"\"\n",
    "        return (self.b*np.cos(self.b*x) - 2*self.a*x*np.sin(self.b*x))*np.exp(-self.a*x*x)\n",
    "    \n",
    "    def forward_difference(self, x, h):\n",
    "        \"\"\"Return the forward difference approximation of the derivative of f at x.\"\"\"\n",
    "        return (self(x + h) - self(x))/h\n",
    "    \n",
    "    def central_difference(self, x, h):\n",
    "        \"\"\"Return the central difference approximation of the derivative of f at x.\"\"\"\n",
    "        return (self(x + h) - self(x - h))*0.5/h\n",
    "    \n",
    "    def plot(self, x, *args):\n",
    "        \"\"\"\n",
    "        Scater plot of the numerical error of the forward and central difference\n",
    "        \"\"\"\n",
    "        fig = plt.figure()\n",
    "        step = np.logspace(-16, 0, 10)\n",
    "        plt.plot(step, [abs(self.forward_difference(x, h) - self.analytical_derivative(x)) for h in step], '-o', label='Forward difference')\n",
    "        plt.plot(step, [abs(self.central_difference(x, h) - self.analytical_derivative(x)) for h in step], '-x', label='Central difference')\n",
    "\n",
    "        \n",
    "        plt.grid()\n",
    "        plt.legend(loc='best')\n",
    "        plt.xscale('log')\n",
    "        plt.yscale('log')\n",
    "        plt.xlabel('Step size')\n",
    "        plt.ylabel('Numerical Error')\n",
    "        plt.show()\n",
    "\n"
   ]
  },
  {
   "cell_type": "code",
   "execution_count": 12,
   "id": "ec6f4678",
   "metadata": {},
   "outputs": [
    {
     "data": {
      "image/png": "[encoded data removed]",
      "text/plain": [
       "<Figure size 640x480 with 1 Axes>"
      ]
     },
     "metadata": {},
     "output_type": "display_data"
    }
   ],
   "source": [
    "Wave1 = FancyWavePacket(0.1, 10)\n",
    "Wave1.plot(x=1)"
   ]
  },
  {
   "cell_type": "code",
   "execution_count": 13,
   "id": "6fe5b95a",
   "metadata": {},
   "outputs": [
    {
     "name": "stdout",
     "output_type": "stream",
     "text": [
      "Forward difference: -7.220096595246589\n",
      "Central difference: -7.481567749530806\n",
      "Analytical derivative: -7.493783027703379\n"
     ]
    }
   ],
   "source": [
    "#CHECK CODE, TO BE DELETED\n",
    "print(f\"Forward difference: {Wave1.forward_difference(1, 1E-2)}\")\n",
    "print(f\"Central difference: {Wave1.central_difference(1, 1E-2)}\")\n",
    "print(f\"Analytical derivative: {Wave1.analytical_derivative(1)}\")"
   ]
  },
  {
   "cell_type": "markdown",
   "id": "08cfac6f",
   "metadata": {
    "editable": true
   },
   "source": [
    "Compared to the first example of the class, observe that we have replaced the\n",
    "function `f` by `__call__` (with two underscores on both sides of \"call\").\n",
    "This way, we we can write our code *as if FancyWavePacket was a function*:"
   ]
  },
  {
   "cell_type": "code",
   "execution_count": 14,
   "id": "5ae2e961",
   "metadata": {
    "collapsed": false,
    "editable": true
   },
   "outputs": [
    {
     "name": "stdout",
     "output_type": "stream",
     "text": [
      "0.8227663359156917\n",
      "-0.49225065733419177\n"
     ]
    }
   ],
   "source": [
    "WP1 = FancyWavePacket(0.1, 2)  # a=0.1, b=2\n",
    "WP2 = FancyWavePacket(0.1, 10)  # a = 0.1, b=10\n",
    "\n",
    "# Evaluate the two functions at a specific point\n",
    "x = 1\n",
    "print(WP1(x))  # If WP1 had been a function, the syntax would be the same here!\n",
    "print(WP2(x))  # Again, we no longer have to type \"WP2.f(x)\", we can do \"WP2(x)\".\n"
   ]
  },
  {
   "cell_type": "markdown",
   "id": "d384efe2",
   "metadata": {},
   "source": [
    "**READ THIS BEFORE ANSWERING THE EXERCISES BELOW.**\n",
    "\n",
    "To avoid code duplication, you should only submit a single version of the\n",
    "WavePacket class. In other words, while different exercises will ask you to add\n",
    "a new function to the class, your final delivery should only include the full\n",
    "class which contains all of the functions.\n",
    "\n",
    "\n",
    "\n",
    "**Part 1.**\n",
    "\n",
    "* Add a function ([instance method](https://realpython.com/instance-class-and-static-methods-demystified/)) to the class that returns the forward difference approximation to the derivative of the function `f` at a point `x`. Include both `x` and the step-size `h` as input arguments to the function.\n",
    "\n",
    "* Add another second function which calculates the central difference approximation.\n"
   ]
  },
  {
   "cell_type": "markdown",
   "id": "68739c04",
   "metadata": {},
   "source": [
    "\n",
    "**Part 2.**\n",
    "\n",
    "* Make a third class function that, for any input $x$, creates scatter plots showing the absolute error of the two finite difference approximations of $f^{\\prime}(x)$ versus step size. As before, choose step sizes in the range from $10^{-16}$ to 1 (with logarithmic spacing). \n",
    "TBC: **Is absolute error meant is the difference between the approximation to the analytical solution?**\n",
    "\n",
    "Hint: You should re-use the first two functions when making the third one."
   ]
  },
  {
   "cell_type": "markdown",
   "id": "bccd55e6",
   "metadata": {
    "editable": true
   },
   "source": [
    "# Exercise 4: A song of ice and fire?\n",
    "<div id=\"exer:isostasy\"></div>\n",
    "* NB! Choose this Exercise **or** Exercise 5\n",
    "\n",
    "There is currently a great deal of concern about global warming.\n",
    "Some critical issues are whether we are more likely to observe\n",
    "extreme local temperatures, increased frequencies of natural\n",
    "disasters like forest fires and droughts, and if there are\n",
    "\"tipping points\" in the climate system that are, at least on the\n",
    "human timescale, irreversible [[IPCC, 2021]](#IPCC2021).\n",
    "One particular question to ask is: How much ice is likely to melt?\n",
    "And, what would be the consequence of ice melting for sea level rise (SLR)?\n",
    "\n",
    "Since most of the ice on Planet Earth is located in Antarctica, substantial\n",
    "effort has been spent in mapping the ice and the bedrock of this continent.\n",
    "Most of the data is freely available, and we can use them to investigate\n",
    "different scenarios.\n",
    "\n",
    "**READ THIS BEFORE YOU START THIS EXERCISE.**\n",
    "\n",
    "\n",
    "In the last part of this project you are going to work with ice data\n",
    "from the *bedmap2* dataset [[Fretwell et al., 2013]](#fretwell2013bedmap2)\n",
    "The [rockhound](https://github.com/fatiando/rockhound)\n",
    "library can be used to load the data.\n",
    "As an aid to plotting, you might also want to use color maps from the\n",
    "[cmocean](https://pypi.org/project/cmocean/) package [[Thyng et al., 2016]](#thyng2016true). To install bedmap2 data you have to create a new conda environment (called project1)"
   ]
  },
  {
   "cell_type": "code",
   "execution_count": null,
   "id": "fc520635",
   "metadata": {
    "collapsed": false,
    "editable": true
   },
   "outputs": [],
   "source": [
    "#conda config --add channels conda-forge\n",
    "conda create -n project1 python matplotlib numpy scipy\n",
    "    xarray==0.19.0 pandas rockhound cmocean pip jupyter"
   ]
  },
  {
   "cell_type": "markdown",
   "id": "88de9b5e",
   "metadata": {
    "editable": true
   },
   "source": [
    "See Appendix B for some additional information. After the new environment is created you may run"
   ]
  },
  {
   "cell_type": "code",
   "execution_count": null,
   "id": "b7f3fabb",
   "metadata": {
    "collapsed": false,
    "editable": true
   },
   "outputs": [],
   "source": [
    "conda activate exercise4\n",
    "jupyter notebook"
   ]
  },
  {
   "cell_type": "markdown",
   "id": "492231cf",
   "metadata": {
    "editable": true
   },
   "source": [
    "## Theory\n",
    "\n",
    "To calculate SLR, we need to know not only how thick the ice is, but also\n",
    "its elevation above the bedrock. In this exercise you will see how we can\n",
    "use Python, together with available data and libraries, to do quite advanced\n",
    "calculations.\n",
    "\n",
    "### Melting of an iceberg\n",
    "\n",
    "Let us start by deriving a result that you may have seen before.\n",
    "We shall consider an iceberg that is floating and which is not impacted\n",
    "by any other forces than gravity.\n",
    "The total volume of ice\n",
    "in [figure 2](#fig:iceberg) is $V_f + V_\\text{H2O}^\\text{disp}$ ,\n",
    "where $V_f$ is the ice volume floating above the sea,\n",
    "and $V_\\text{H2O}^\\text{disp}$ is the\n",
    "volume of displaced sea water (submerged ice).\n",
    "According to Newton's 2nd law, the total weight of ice is therefore"
   ]
  },
  {
   "cell_type": "markdown",
   "id": "5453ba40",
   "metadata": {
    "editable": true
   },
   "source": [
    "$$W=m_{ice}g = \\rho_{ice}V_{ice}g\n",
    "= \\rho_{ice}(V_f + V_{\\text{H$_2$O}}^\\text{disp})g\\hspace{35pt}\\text{(3)}$$"
   ]
  },
  {
   "cell_type": "markdown",
   "id": "a9b2be95",
   "metadata": {
    "editable": true
   },
   "source": [
    "where $\\rho_{ice}$ is the density (mass divided by volume),\n",
    "and $g=9.81$ $\\mathrm{m/s^2}$ the gravitational constant.\n",
    "On the other hand, the Archimedean principle tells us that buoyancy\n",
    "is proportional to *the mass of displaced water*, hence another expression\n",
    "for the same weight is"
   ]
  },
  {
   "cell_type": "markdown",
   "id": "2fd81813",
   "metadata": {
    "editable": true
   },
   "source": [
    "$$W = \\rho_{w}V_{\\text{H$_2$O}}^\\text{disp}g\\hspace{35pt}\\text{(4)}$$"
   ]
  },
  {
   "cell_type": "markdown",
   "id": "d4f7ea22",
   "metadata": {
    "editable": true
   },
   "source": [
    "where $\\rho_{w}$ is the density of the surrounding sea-water.\n",
    "As the ice melts, it must be turned into an equal mass of liquid ice-water:"
   ]
  },
  {
   "cell_type": "markdown",
   "id": "e5e4d121",
   "metadata": {
    "editable": true
   },
   "source": [
    "$$\n",
    "m_\\text{ice} = m_\\text{ice water} \\nonumber\n",
    "$$"
   ]
  },
  {
   "cell_type": "markdown",
   "id": "7f89d66f",
   "metadata": {
    "editable": true
   },
   "source": [
    "$$\\rho_\\text{ice}V_\\text{ice} = \\rho_\\text{ice water}V_\\text{ice water}\\hspace{35pt}\\text{(5)}$$"
   ]
  },
  {
   "cell_type": "markdown",
   "id": "e69c32ec",
   "metadata": {
    "editable": true
   },
   "source": [
    "By combining the above equations, we therefore get:"
   ]
  },
  {
   "cell_type": "markdown",
   "id": "f8de47cc",
   "metadata": {
    "editable": true
   },
   "source": [
    "$$V_{\\text{H$_2$O}}^\\text{disp}=\\frac{\\rho_\\text{ice water}}{\\rho_{w}}V_\\text{ice water}\\hspace{35pt}\\text{(6)}$$"
   ]
  },
  {
   "cell_type": "markdown",
   "id": "3a2b9e18",
   "metadata": {
    "editable": true
   },
   "source": [
    "Therefore, the net contribution to SLR is captured by the volume change"
   ]
  },
  {
   "cell_type": "markdown",
   "id": "c736f077",
   "metadata": {
    "editable": true
   },
   "source": [
    "$$\\Delta{V}\\equiv V_\\text{ice water}-V_{\\text{H$_2$O}}^\\text{disp}=\n",
    "\\left(1-\\frac{\\rho_\\text{ice water}}{\\rho_{w}}\\right)V_\\text{ice water}\\hspace{35pt}\\text{(7)}$$"
   ]
  },
  {
   "cell_type": "markdown",
   "id": "8ed3a9df",
   "metadata": {
    "editable": true
   },
   "source": [
    "If the melted ice has the same density as seawater, it follows that there\n",
    "is *no increase in sea level*. On the other hand, if the density is\n",
    "lower than that of seawater, there is a contribution.\n",
    "Typically, the melting of ice dilutes the salinity of the ocean, which\n",
    "leads to a small increase in sea level [[noerdlinger2007melting]](#noerdlinger2007melting).\n",
    "\n",
    "<!-- dom:FIGURE: [fig-project1/iceberg.png, width=800 frac=1.0] A schematic illustration of an iceberg. $V_{\\mathrm{H_{2}O}}^{\\mathrm{disp}}$ is the volume of water displaced by the iceberg. <div id=\"fig:iceberg\"></div> -->\n",
    "<!-- begin figure -->\n",
    "<div id=\"fig:iceberg\"></div>\n",
    "\n",
    "<img src=\"./fig-project1/iceberg.png\" width=800><p style=\"font-size: 0.9em\"><i>Figure 2: A schematic illustration of an iceberg. $V_{\\mathrm{H_{2}O}}^{\\mathrm{disp}}$ is the volume of water displaced by the iceberg.</i></p>\n",
    "<!-- end figure -->\n",
    "\n",
    "### Freeboard\n",
    "\n",
    "The vast majority of ice in Antarctica is not freely floating.\n",
    "In addition to the salinity effect described above, the main contribution\n",
    "to SLR is from ice located above *hydrostatic equilibrium*.\n",
    "It is useful to introduce the concept of the *freeboard*, which is the\n",
    "height above seawater of a floating iceberg.\n",
    "Again referring to [figure 2](#fig:iceberg), the freeboard height, $h$, is"
   ]
  },
  {
   "cell_type": "markdown",
   "id": "bc7bb2f6",
   "metadata": {
    "editable": true
   },
   "source": [
    "$$h=\\left(\\frac{\\rho_w}{\\rho_\\text{ice}}-1\\right)h_w\\hspace{35pt}\\text{(8)}$$"
   ]
  },
  {
   "cell_type": "markdown",
   "id": "34fc3d42",
   "metadata": {
    "editable": true
   },
   "source": [
    "For the *bedmap2* dataset, the freeboard level can be computed\n",
    "from ([figure 3](#fig:bedmap2_ice_thickness))"
   ]
  },
  {
   "cell_type": "markdown",
   "id": "5a450f04",
   "metadata": {
    "editable": true
   },
   "source": [
    "$$h = -(\\text{surface}-\\text{thickness})\\cdot\\left(\\frac{\\rho_w}{\\rho_{ice}}-1\\right)\\hspace{35pt}\\text{(9)}$$"
   ]
  },
  {
   "cell_type": "markdown",
   "id": "eb553588",
   "metadata": {
    "editable": true
   },
   "source": [
    "Note that this formula assumes\n",
    "that the bedrock is below sea-level.\n",
    "\n",
    "**Part 1.**\n",
    "\n",
    "The code below is taken from the\n",
    "[rockound library documentation](https://www.fatiando.org/rockhound/latest/api/generated/rockhound.fetch_bedmap2.html):"
   ]
  },
  {
   "cell_type": "code",
   "execution_count": 4,
   "id": "dbf7e1a6",
   "metadata": {
    "collapsed": false,
    "editable": true
   },
   "outputs": [
    {
     "data": {
      "image/png": "[encoded data removed]",
      "text/plain": [
       "<Figure size 800x700 with 2 Axes>"
      ]
     },
     "metadata": {},
     "output_type": "display_data"
    }
   ],
   "source": [
    "import rockhound as rh\n",
    "#plt to be deleted\n",
    "import matplotlib.pyplot as plt\n",
    "import cmocean\n",
    "bedmap = rh.fetch_bedmap2(datasets=[\"thickness\",\"surface\",\"bed\"])\n",
    "plt.figure(figsize=(8, 7))\n",
    "ax = plt.subplot(111)\n",
    "bedmap.surface.plot.pcolormesh(ax=ax,cmap=cmocean.cm.ice,\n",
    "                       cbar_kwargs=dict(pad=0.01, aspect=30))\n",
    "plt.title(\"Bedmap2 Antarctica Ice Thickness\")\n",
    "plt.tight_layout()\n",
    "plt.show()"
   ]
  },
  {
   "cell_type": "markdown",
   "id": "a040bb4e",
   "metadata": {
    "editable": true
   },
   "source": [
    "* Run the code and reproduce [figure 3](#fig:bedmap2_ice_thickness).\n",
    "\n",
    "<!-- dom:FIGURE: [fig-project1/bedmap2_plot.png, width=800 frac=1.0] Visualization of the ice thickness in Antarctica. <div id=\"fig:bedmap2_ice_thickness\"></div> -->\n",
    "<!-- begin figure -->\n",
    "<div id=\"bedmap2_ice_thickness\"></div>\n",
    "\n",
    "<img src=\"./fig-project1/bedmap2_plot.png\" width=800><p style=\"font-size: 0.9em\"><i>Figure 3: Visualization of the ice thickness in Antarctica.</i></p>\n",
    "<!-- end figure -->\n",
    "\n",
    "This may take quite some time, so it is recommended that you do not execute\n",
    "the cell generating the plot more often than you have to.\n",
    "\n",
    "**Part 2.**\n",
    "\n",
    "The Thwaites glacier, named after Fredrik T. Thwaites, is of particular\n",
    "interest. Also referred to as the Doomsday glacier, it is a fast moving\n",
    "glacier (up to 4 km/year) at the coast of Antarctica, roughly 120 km wide.\n",
    "It is called the Doomsday glacier because it is believed that it may trigger\n",
    "a [collapse of west Antarctica](https://interactive.pri.org/2019/05/antarctica/doomed-glacier-race.html).\n",
    "We can use the bedmap2 dataset to view a cross section of the glacier,\n",
    "$y = -0.5\\cdot10^{6}$ and $x\\in[-1.6\\cdot10^6,-1.35\\cdot 10^6]$:"
   ]
  },
  {
   "cell_type": "code",
   "execution_count": 5,
   "id": "fb396bd4",
   "metadata": {
    "collapsed": false,
    "editable": true
   },
   "outputs": [],
   "source": [
    "# Extract cross section using the original coordinates\n",
    "bed1d = bedmap.sel(y=-0.5e6, x=slice(-1.6e6,-1.35e6))\n",
    "\n",
    "# Add a second x-coordinate to make prettier plots\n",
    "# (shift x-axis to start at zero, and convert from m to km)\n",
    "bed1d = bed1d.assign_coords({\"x2\":((bed1d.x+1.6e6)/1e3)})"
   ]
  },
  {
   "cell_type": "markdown",
   "id": "37429db2",
   "metadata": {
    "editable": true
   },
   "source": [
    "It is now possible to plot the values in the `bed1d` data array by simply\n",
    "typing"
   ]
  },
  {
   "cell_type": "code",
   "execution_count": 7,
   "id": "67327eca",
   "metadata": {
    "collapsed": false,
    "editable": true
   },
   "outputs": [
    {
     "data": {
      "image/png": "[encoded data removed]",
      "text/plain": [
       "<Figure size 640x480 with 1 Axes>"
      ]
     },
     "metadata": {},
     "output_type": "display_data"
    }
   ],
   "source": [
    "surface_elevation_values = bed1d.surface.plot(x='x2')"
   ]
  },
  {
   "cell_type": "markdown",
   "id": "06d0d4de",
   "metadata": {
    "editable": true
   },
   "source": []
  },
  {
   "cell_type": "markdown",
   "metadata": {},
   "source": [
    "**A note concerning the xarray library.**\n",
    "\n",
    "The *bedmap2* data is stored in data structures provided by the\n",
    "[xarray](http://xarray.pydata.org/en/stable/) package, which is built on\n",
    "top of [NumPy](https://numpy.org) and [pandas](https://pandas.pydata.org).\n",
    "While xarray allows you to apply plot commands directly to\n",
    "[Datasets](http://xarray.pydata.org/en/stable/generated/xarray.Dataset.html#xarray.Dataset)\n",
    "and [DataArrays](http://xarray.pydata.org/en/stable/generated/xarray.DataArray.html#xarray.DataArray),\n",
    "it might be easier to use the `matplotlib.pyplot` module manually.\n",
    "To this end, you might also want to extract the underlying NumPy arrays\n",
    "containing the data you are interested in. This can easily be done as in\n",
    "the following example: `surface_elevation_values = bed1d['surface'].values`.\n",
    "\n",
    "\n",
    "\n",
    "* Use equation ([9](#eq:freeboard_level)) to calculate the freeboard level. For the ice use a density of $917\\; kg/m^3$ and for sea-water use a density of $1030\\; kg/m^3$.\n",
    "\n",
    "* Make a cross section plot of the ice thickness, bed rock, and freeboard level, similar to (the right) figure ([fig:cross](#fig:cross))\n",
    "\n",
    "* Explain what you see. Is the shape of the bedrock important for sea level rise?\n",
    "\n",
    "<!-- dom:FIGURE: [fig-project1/free_cross.png, width=800 frac=1.0] (left) How to calculate the freeboard level. (right) Cross section plot of Thwaites glacier. <div id=\"fig:cross\"></div> -->\n",
    "<!-- begin figure -->\n",
    "<div id=\"fig:cross\"></div>\n",
    "\n",
    "<img src=\"./fig-project1/free_cross.png\" width=800><p style=\"font-size: 0.9em\"><i>Figure 4: (left) How to calculate the freeboard level. (right) Cross section plot of Thwaites glacier.</i></p>\n",
    "<!-- end figure -->"
   ]
  },
  {
   "cell_type": "code",
   "execution_count": null,
   "id": "b0002d22",
   "metadata": {},
   "outputs": [],
   "source": [
    "freeboard_values =-(bedmap.surface - bedmap.thickness) * ((917/1030)-1)"
   ]
  },
  {
   "cell_type": "markdown",
   "id": "8bd3a684",
   "metadata": {
    "editable": true
   },
   "source": [
    "**Part 3.**\n",
    "\n",
    "* Use the whole data set to estimate the total SLR if all the ice of Antarctica melts.\n",
    "\n",
    "Hints to get you started:\n",
    "\n",
    "1. Start by calculating, for each grid cell in the dataset, the height of ice that can contribute to SLR.\n",
    "\n",
    "2. Multiply the height with the area of each cell ($1000\\times1000$ meters) in order to estimate the volume of ice.\n",
    "\n",
    "3. For the density of ice water use $1000\\; kg/m^3$"
   ]
  },
  {
   "cell_type": "markdown",
   "id": "01bddd65",
   "metadata": {
    "editable": true
   },
   "source": [
    "**Part 4.**\n",
    "\n",
    "* How can we use the bedmap data to improve decision making?\n",
    "\n",
    "* What are some limitations in your estimated calculation of sea level rise?\n",
    "\n",
    "**Self reflections.**\n",
    "\n",
    "At the end include self reflections. Who did wat, what did you learn etc. What will you do better next time. Any critique of the project, suggestions for improvements, and so on.\n",
    "\n",
    "\n",
    "\n",
    "# Exercise 5: Automatic for the people?\n",
    "<div id=\"exer:autoder\"></div>\n",
    "* NB! Choose this Exercise **or** Exercise 4\n",
    "\n",
    "## Introduction to automatic differentiation\n",
    "\n",
    "At the core of computational models, the computer evaluates *gradients*. Gradients may be evaluated using numerical differentiation. Numerical differentiation is usually slow and could be influenced by round off errors. Humans can calculate derivatives of complicated functions using a set of rules. Why cannot the computer do the same, provided of course that we explain the rules? This idea was explored by Wengert in 1964 [[wengert1964simple]](#wengert1964simple). \n",
    "\n",
    "The core idea behind automatic differentiation is the fact that when we evaluate a function, it is done by using a set of fixed operations: addition, subtraction, multiplication, division and a set of elementary functions, $\\sin, \\log, \\exp$ etc [[wengert1964simple]](#wengert1964simple).\n",
    "\n",
    "So how can we tell the algebraic rules of differentiation to the computer? We will do this using Python and object oriented programming. We want to calculate both the function value *and* the derivative at the same time. To achieve this we implement these operations using a vector of size 2"
   ]
  },
  {
   "cell_type": "markdown",
   "id": "7ff4c30f",
   "metadata": {
    "editable": true
   },
   "source": [
    "$$\\begin{pmatrix}\n",
    "f(x) \\\\ f^\\prime(x)\n",
    "\\end{pmatrix}\\hspace{35pt}\\text{(10)}$$"
   ]
  },
  {
   "cell_type": "markdown",
   "id": "9fee249b",
   "metadata": {
    "editable": true
   },
   "source": [
    "At the top we have the function and at the bottom we have the derivative of the function. First we start by constructing a class"
   ]
  },
  {
   "cell_type": "code",
   "execution_count": 14,
   "id": "e0fe39ed",
   "metadata": {
    "collapsed": false,
    "editable": true
   },
   "outputs": [],
   "source": [
    "class duple:\n",
    "    '''\n",
    "    Class for automatic differentiation\n",
    "    top: function value\n",
    "    bottom: derivative of function \n",
    "    '''\n",
    "    def __init__(self,top, bottom=0):\n",
    "        self.top = top\n",
    "        self.bottom = bottom"
   ]
  },
  {
   "cell_type": "markdown",
   "id": "de717da4",
   "metadata": {
    "editable": true
   },
   "source": [
    "## Addition and substraction\n",
    "Next, we want to implement some simple operations, lets say we want to do"
   ]
  },
  {
   "cell_type": "code",
   "execution_count": 15,
   "id": "0d3bee43",
   "metadata": {
    "collapsed": false,
    "editable": true
   },
   "outputs": [
    {
     "ename": "TypeError",
     "evalue": "unsupported operand type(s) for +: 'duple' and 'duple'",
     "output_type": "error",
     "traceback": [
      "\u001b[0;31m---------------------------------------------------------------------------\u001b[0m",
      "\u001b[0;31mTypeError\u001b[0m                                 Traceback (most recent call last)",
      "Cell \u001b[0;32mIn[15], line 3\u001b[0m\n\u001b[1;32m      1\u001b[0m x\u001b[38;5;241m=\u001b[39mduple(\u001b[38;5;241m1\u001b[39m,\u001b[38;5;241m2\u001b[39m) \u001b[38;5;66;03m#f(x)=1, f'(x)=2\u001b[39;00m\n\u001b[1;32m      2\u001b[0m y\u001b[38;5;241m=\u001b[39mduple(\u001b[38;5;241m3\u001b[39m,\u001b[38;5;241m4\u001b[39m) \u001b[38;5;66;03m#g(x)=3, g'(x)=4\u001b[39;00m\n\u001b[0;32m----> 3\u001b[0m \u001b[43mx\u001b[49m\u001b[38;5;241;43m+\u001b[39;49m\u001b[43my\u001b[49m \u001b[38;5;66;03m# f(x)+g(x)=4, f'(x)+g'(x)=6\u001b[39;00m\n",
      "\u001b[0;31mTypeError\u001b[0m: unsupported operand type(s) for +: 'duple' and 'duple'"
     ]
    }
   ],
   "source": [
    "x=duple(1,2) #f(x)=1, f'(x)=2\n",
    "y=duple(3,4) #g(x)=3, g'(x)=4\n",
    "/x+y # f(x)+g(x)=4, f'(x)+g'(x)=6"
   ]
  },
  {
   "cell_type": "markdown",
   "id": "a3fae818",
   "metadata": {
    "editable": true
   },
   "source": [
    "clearly we want to have as output `[4,6]`. If you run the code, Python will give an error message `TypeError: unsupported operand type(s) for +: 'duple' and 'duple'`. This is because `duple` is a class we have defined,  and the `+` operator is not defined for this class. However, in Python you can implement these operations using [*operator overloading*](https://www.geeksforgeeks.org/operator-overloading-in-python/)"
   ]
  },
  {
   "cell_type": "code",
   "execution_count": 16,
   "id": "96c06d55",
   "metadata": {
    "collapsed": false,
    "editable": true
   },
   "outputs": [],
   "source": [
    "class duple:\n",
    "    '''\n",
    "    Class for automatic differentiation\n",
    "    top: function value\n",
    "    bottom: derivative of function \n",
    "    '''\n",
    "    def __init__(self,top, bottom=0):\n",
    "        self.top = top\n",
    "        self.bottom = bottom \n",
    "    \n",
    "    def __neg__(self):\n",
    "        return duple(-self.top, -self.bottom)\n",
    "    \n",
    "    def __add__(self, d): # u+v, u'+v' \n",
    "        return duple(self.top + d.top, self.bottom + d.bottom )\n",
    "    \n",
    "    def __sub__(self, d): # u-v, u'-v'\n",
    "        return duple(self.top - d.top, self.bottom - d.bottom )\n",
    "    \n",
    "    def __mul__(self, d):\n",
    "        top = self.top*d.top\n",
    "        bottom = self.top*d.bottom + self.bottom*d.top\n",
    "        return duple(top, bottom)\n",
    "    \n",
    "    def __truediv__(self, d):\n",
    "        top = self.top/d.top\n",
    "        bottom = (self.bottom*d.top - self.top*d.bottom)/(d.top**2)\n",
    "        return duple(top, bottom)\n",
    "    \n",
    "    def __repr__(self):\n",
    "        return \"[\"+str(self.top)+\",\"+str(self.bottom)+\"]\"\n",
    "    \n",
    "    def __str__(self):\n",
    "        return \"[\"+str(self.top)+\",\"+str(self.bottom)+\"]\""
   ]
  },
  {
   "cell_type": "markdown",
   "id": "99a11660",
   "metadata": {
    "editable": true
   },
   "source": [
    "it is now possible to run the following code"
   ]
  },
  {
   "cell_type": "code",
   "execution_count": 17,
   "id": "b92124c6",
   "metadata": {
    "collapsed": false,
    "editable": true
   },
   "outputs": [
    {
     "name": "stdout",
     "output_type": "stream",
     "text": [
      "4 6\n"
     ]
    }
   ],
   "source": [
    "x=duple(1,2)\n",
    "y=duple(3,4)\n",
    "z=x+y\n",
    "print(z.top, z.bottom)"
   ]
  },
  {
   "cell_type": "markdown",
   "id": "ea87b611",
   "metadata": {
    "editable": true
   },
   "source": [
    "to get the expected result. It would also be nice to simply do `print(x+y)` or `x+y` and get the result `[4,6]`, instead of accessing variables by e.g. `z.top`. Fortunately Python has functionality for this, `__repr__` and `__str__`. The `__repr__` and `__str__` is what is produced if you simply write `x+y` or `print(x+y)` in the terminal respectively. \n",
    "\n",
    "**Part 1.**\n",
    "* add the following functions to your class, what happens when you do `x+y`?"
   ]
  },
  {
   "cell_type": "code",
   "execution_count": 18,
   "id": "ed397d99",
   "metadata": {
    "collapsed": false,
    "editable": true
   },
   "outputs": [],
   "source": [
    "def __repr__(self):\n",
    "        return \"[\"+str(self.top)+\",\"+str(self.bottom)+\"]\"\n",
    "    \n",
    "def __str__(self):\n",
    "        return \"[\"+str(self.top)+\",\"+str(self.bottom)+\"]\""
   ]
  },
  {
   "cell_type": "markdown",
   "id": "5eb314a0",
   "metadata": {
    "editable": true
   },
   "source": [
    "will allow you to get nice formatted output.\n",
    "\n",
    "**Part 2.**\n",
    "\n",
    "In the code above we have implemented `+` operator, however if you try to execute `+x` or `-x`, Python will give an error message `TypeError: bad operand type for unary -: 'duple'`.\n",
    "\n",
    "* Extend your code to make it possible to perform those operations. (Hint: check out `__neg__` and `__pos__` in the [documentation](https://docs.python.org/3/library/operator.html))\n",
    "\n",
    "* Implement the `-` operator using `__sub__`, test that if you do `x-y` you get `[-2,-2]`\n",
    "\n",
    "## Multiplication and division\n",
    "So far we have treated the function (top) and derivative (bottom) equally in terms of addition and subtraction. That is because addition and subtraction is a linear operation, i.e. $(f(x)+g(x))^\\prime=f^\\prime(x)+g^\\prime(x)$. For multiplication and division we have different rules"
   ]
  },
  {
   "cell_type": "markdown",
   "id": "061954e6",
   "metadata": {
    "editable": true
   },
   "source": [
    "$$(f(x)\\cdot g(x))^\\prime =f^\\prime(x)\\cdot g(x)+f(x)\\cdot g^\\prime(x)\\hspace{35pt}\\text{(11)}$$"
   ]
  },
  {
   "cell_type": "markdown",
   "id": "1aedf5df",
   "metadata": {
    "editable": true
   },
   "source": [
    "$$\\left(\\frac{f(x)}{g(x)}\\right)^\\prime =\\frac{f^\\prime(x)\\cdot g(x)-f(x)\\cdot g^\\prime(x)}{g(x)^2}\\hspace{35pt}\\text{(12)}$$"
   ]
  },
  {
   "cell_type": "markdown",
   "id": "bd4299f0",
   "metadata": {
    "editable": true
   },
   "source": [
    "Hence we need to implement a different rule for the multiplication operator\n",
    "\n",
    "**Part 3.**\n",
    "1. use the `__mul__` function to implement the `*` operator, use normal multiplication for the top, and equation ([10](#eq:auto:mul)) for the bottom.\n",
    "\n",
    "2. use the `__truediv__` function to implement the `/` operator, use normal division for the top, and equation ([11](#eq:auto:div)) for the bottom.\n",
    "\n",
    "### Test of code\n",
    "\n",
    "Before proceeding to more advanced functions, we can actually do quite a lot with our small code and calculate derivatives of simple functions"
   ]
  },
  {
   "cell_type": "code",
   "execution_count": 19,
   "id": "a9479be5",
   "metadata": {
    "collapsed": false,
    "editable": true
   },
   "outputs": [
    {
     "name": "stdout",
     "output_type": "stream",
     "text": [
      "auto diff= [1.728,4.32]\n",
      "analytical= 1.728 4.319999999999999\n",
      "auto diff= [0.45454545454545453,-0.20661157024793386]\n",
      "analytical= 0.45454545454545453 -0.20661157024793386\n",
      "auto diff= [3.0944787419716917,4.297548854694511]\n",
      "analytical= 3.0944787419716917 4.297548854694511\n"
     ]
    }
   ],
   "source": [
    "#import numpy to be deleted\n",
    "import numpy as np\n",
    "\n",
    "x=1.2 # just for making it easy to use other values\n",
    "One=duple(1.,0.) # derivative of a constant is zero\n",
    "X=duple(x,1) # derivative of x with respect to x is 1\n",
    "print(\"auto diff=\",X*X*X)\n",
    "print(\"analytical=\",x*x*x, 3*x*x)\n",
    "\n",
    "print(\"auto diff=\", One/(One+X))\n",
    "print(\"analytical=\", 1/(1+x),-1/(1+x)**2)\n",
    "\n",
    "Exp=duple(np.exp(x),np.exp(x)) # derivative of exp(x) is exp(x)\n",
    "Sin=duple(np.sin(x),np.cos(x)) # derivative of sin(x) is cos(x)\n",
    "print(\"auto diff=\", Exp*Sin)\n",
    "print(\"analytical=\", np.exp(x)*np.sin(x), np.exp(x)*np.sin(x)+np.exp(x)*np.cos(x))"
   ]
  },
  {
   "cell_type": "markdown",
   "id": "746aed9a",
   "metadata": {
    "editable": true
   },
   "source": [
    "## Adding more functions\n",
    "So far we have only implemented functions where we explicitly know the derivative, but it would be more convenient if we could implement more complicated functions, such as $\\ln(1+e^x)$, without explicitly calculating the derivatives. Actually the only thing we need to do is to implement the kernel rule for the bottom part"
   ]
  },
  {
   "cell_type": "markdown",
   "id": "4fecd912",
   "metadata": {
    "editable": true
   },
   "source": [
    "$$f(g(x))^\\prime=f^\\prime(g(x))\\cdot g^\\prime (x)\\hspace{35pt}\\text{(13)}$$"
   ]
  },
  {
   "cell_type": "markdown",
   "id": "1c55ca96",
   "metadata": {
    "editable": true
   },
   "source": [
    "**Part 4.**\n",
    "Finnish the code below"
   ]
  },
  {
   "cell_type": "code",
   "execution_count": 20,
   "id": "49532c62",
   "metadata": {
    "collapsed": false,
    "editable": true
   },
   "outputs": [],
   "source": [
    "class dfunction:\n",
    "    \n",
    "    def __init__(self, f, df):\n",
    "        self.f = f\n",
    "        self.df = df\n",
    "\n",
    "    def __call__(self,d: duple): # kernel rule sending in and returning duple\n",
    "        return duple(self.f(d.top), self.df(d.top) * d.bottom)#fill inn kernel rule here!)"
   ]
  },
  {
   "cell_type": "markdown",
   "id": "a764ab47",
   "metadata": {
    "editable": true
   },
   "source": [
    "\n",
    "If your code works, you should be able to run the following code"
   ]
  },
  {
   "cell_type": "code",
   "execution_count": 21,
   "id": "322bca6f",
   "metadata": {
    "collapsed": false,
    "editable": true
   },
   "outputs": [
    {
     "name": "stdout",
     "output_type": "stream",
     "text": [
      "auto diff  [3.144063967938574,0.9568927450589139]\n",
      "analytical  3.144063967938574 0.9568927450589139\n"
     ]
    }
   ],
   "source": [
    "def f(x):\n",
    "    return np.log(x)\n",
    "def df(x):\n",
    "    return 1/x\n",
    "\n",
    "x=3.1\n",
    "One=duple(1.,0.) # derivative of a constant is zero\n",
    "X=duple(x,1) # derivative of x with respect to x is 1\n",
    "Log=dfunction(f,df) #note no arguments to f - we are passing the function\n",
    "Exp=dfunction(np.exp,np.exp) # same here\n",
    "print(\"auto diff \", Log(One+Exp(X)))\n",
    "print(\"analytical \", np.log(1+np.exp(x)),np.exp(x)/(1+np.exp(x)))"
   ]
  },
  {
   "cell_type": "markdown",
   "id": "2cdf0e12",
   "metadata": {},
   "source": [
    "Next, we can easily evaluate the function that we evaluated previously using finite differences"
   ]
  },
  {
   "cell_type": "code",
   "execution_count": 28,
   "id": "d862548b",
   "metadata": {},
   "outputs": [
    {
     "name": "stdout",
     "output_type": "stream",
     "text": [
      "auto diff  [-0.49225065733419177,-7.493783027703379]\n",
      "analytical  -0.49225065733419177 -7.493783027703379\n"
     ]
    }
   ],
   "source": [
    "a=0.1\n",
    "b=10\n",
    "x=1\n",
    "A=duple(a) #second argument is default 0 i.e. a constant\n",
    "B=duple(b) #second argument is default 0 i.e. a constant\n",
    "X=duple(x,1)\n",
    "Sin=dfunction(np.sin,np.cos)\n",
    "Exp=dfunction(np.exp,np.exp)\n",
    "print('auto diff ', Sin(B*X)*Exp(-A*X*X))\n",
    "print('analytical ', np.sin(b*x)*np.exp(-a*x*x),b*np.cos(b*x)*np.exp(-a*x*x)-2*a*x*np.sin(b*x)*np.exp(-a*x*x))"
   ]
  },
  {
   "cell_type": "markdown",
   "id": "6193343c",
   "metadata": {
    "editable": true
   },
   "source": [
    "**Part 5.**\n",
    "* Write a few sentences about the use of automatic differentiation in some areas\n",
    "\n",
    "Automatic Differentiation (AD) is a computational technique that is used to evaluate derivatives of function. This is based on Wengert's idea to decompose the function into a sequence of elementary operations which are easier to differentiate.  \n",
    "\n",
    "\n",
    "* Make some comments about the strength and weaknesses of automatic differentiation compared to numerical differentiation\n",
    "\n",
    "**Strengths**\n",
    "    *Accuracy: AD avoids the numerical errors that are common in numerical differentiation since AD provides exact derivatives up to machine precision.\n",
    "    *Efficiency: AD is more efficient than numerical differentiation, especially for complex functions that have many variables, since it requires fewer function evaluations.\n",
    "\n",
    "**Weaknesses**\n",
    "    *Memory: AD requires more memory than numerical differentiation since it needs to store the intermediate values of the derivatives.\n",
    "    *Complexity: AD is more complex than numerical differentiation, which makes it harder to implement and understand.\n",
    "    *Overhead: AD has some overhead compared to numerical differentiation, which can make it slower for simple functions."
   ]
  },
  {
   "cell_type": "markdown",
   "id": "6afefe82",
   "metadata": {
    "editable": true
   },
   "source": [
    "# Appendix A: Passing arguments to functions\n",
    "In this project one of the tasks is to write a function that can calculate the numerical derivative of a function that needs two additional parameters (`a` and `b`) to be evaluated (see equation ([1](#eq:p1:f))). Let us first take a look on how the call signature would be i `f` only depends on $x$ (i.e. if `a` and `b` was fixed), this is extremely easy:\n",
    "we can  simply take  `f`, `x`, and `h` (or $\\Delta x$) (step-size) as input arguments\n",
    "to our derivative function. Assuming it is called `calc_derivative`,\n",
    "it could work something like this:"
   ]
  },
  {
   "cell_type": "code",
   "execution_count": null,
   "id": "ea16a328",
   "metadata": {
    "collapsed": false,
    "editable": true
   },
   "outputs": [
    {
     "ename": "NameError",
     "evalue": "name 'calc_derivative' is not defined",
     "output_type": "error",
     "traceback": [
      "\u001b[0;31m---------------------------------------------------------------------------\u001b[0m",
      "\u001b[0;31mNameError\u001b[0m                                 Traceback (most recent call last)",
      "Cell \u001b[0;32mIn[2], line 1\u001b[0m\n\u001b[0;32m----> 1\u001b[0m df_x \u001b[38;5;241m=\u001b[39m \u001b[43mcalc_derivative\u001b[49m(f, x\u001b[38;5;241m=\u001b[39m\u001b[38;5;241m1.0\u001b[39m, h\u001b[38;5;241m=\u001b[39m\u001b[38;5;241m1.0e-3\u001b[39m)\n",
      "\u001b[0;31mNameError\u001b[0m: name 'calc_derivative' is not defined"
     ]
    }
   ],
   "source": [
    "df_x = calc_derivative(f, x=1.0, h=1.0e-3)"
   ]
  },
  {
   "cell_type": "markdown",
   "id": "afa9f6f7",
   "metadata": {
    "editable": true
   },
   "source": [
    "However, the function in equation ([1](#eq:p1:f)) depends on two additional\n",
    "input parameters, `a` and `b`. We can of course add these two as extra\n",
    "arguments to the derivative function, but then we would lose generality,\n",
    "for not every function has the same two parameters. One way out of this\n",
    "dilemma could be to create a new function for each combination of\n",
    "`a` and `b` that you use, for example:"
   ]
  },
  {
   "cell_type": "code",
   "execution_count": null,
   "id": "a6a1e8ed",
   "metadata": {
    "collapsed": false,
    "editable": true
   },
   "outputs": [],
   "source": [
    "def one_version_of_f(x):\n",
    "    \"\"\"\n",
    "    The function f(x) = sin(10x) * exp(-0.1x^2).\n",
    "    \"\"\"\n",
    "    return f(x, 0.1, 10.0)\n",
    "\n",
    "def another_version_of_f(x):\n",
    "    \"\"\"\n",
    "    The function f(x) = sin(3.14x) * exp(-0.5x^2).\n",
    "    \"\"\"\n",
    "    return f(x, 0.5, 3.14)"
   ]
  },
  {
   "cell_type": "markdown",
   "id": "9ccfd529",
   "metadata": {
    "editable": true
   },
   "source": [
    "Since both of these example functions have their own values for `a` and `b` hard-coded\n",
    "inside them, we do not need to pass anything extra to `calc_derivative`, that is,\n",
    "we can do:"
   ]
  },
  {
   "cell_type": "code",
   "execution_count": null,
   "id": "f15d0126",
   "metadata": {
    "collapsed": false,
    "editable": true
   },
   "outputs": [],
   "source": [
    "df1_x = calc_derivative(one_version_of_f, x=1.0, h=1.0e-3)\n",
    "df2_x = calc_derivative(another_version_of_f, x=1.0, h=1.0e-3)"
   ]
  },
  {
   "cell_type": "markdown",
   "id": "26c8e182",
   "metadata": {
    "editable": true
   },
   "source": [
    "Another possibility is to use the the [args](https://realpython.com/python-kwargs-and-args/) mechanism,\n",
    "which lets you pass around a variable number of parameters to a function.\n",
    "An example of how this works is:"
   ]
  },
  {
   "cell_type": "code",
   "execution_count": null,
   "id": "0a977a23",
   "metadata": {
    "collapsed": false,
    "editable": true
   },
   "outputs": [],
   "source": [
    "def calc_derivative(f, x, h, *args):\n",
    "    return (f(x, *args) - f(x-h, *args))/h"
   ]
  },
  {
   "cell_type": "markdown",
   "id": "c5292a39",
   "metadata": {
    "editable": true
   },
   "source": [
    "If you use this method, you need to pass the values of `a` and `b` to the\n",
    "function that calculates the derivative, e.g.:"
   ]
  },
  {
   "cell_type": "code",
   "execution_count": null,
   "id": "ba3b0c7e",
   "metadata": {
    "collapsed": false,
    "editable": true
   },
   "outputs": [],
   "source": [
    "calc_derivative(f, x=1.0, h=1.0e-3, a=0.1, b=10.0)\n",
    "calc_derivative(another_version_of_f, x=1.0, h=1.0e-3, a=0.5, b=3.14)"
   ]
  },
  {
   "cell_type": "markdown",
   "id": "45b9a637",
   "metadata": {
    "editable": true
   },
   "source": [
    "# Appendix B: Package management with `conda`\n",
    "\n",
    "Package installation in Python can be quite tricky, and it is easy\n",
    "to make mistakes, especially if the packages you wish to use have\n",
    "many dependencies. A good way of avoiding unnecessary installation problems\n",
    "is to work with *virtual environments*; isolated installations of\n",
    "Python on your computer. This allows you to switch between different Python\n",
    "versions depending on the needs of a particular project.\n",
    "We prefer to use the [`conda`](https://docs.conda.io/en/latest/)\n",
    "package manager that follows along with the\n",
    " [Anaconda](https://www.anaconda.com) Python distribution.\n",
    "\n",
    "## Getting `conda` up and running\n",
    "\n",
    "It is possible to use a graphical user interface (GUI) to work\n",
    "with `conda`, but we will work exclusively from the command line.\n",
    "On Windows, this will probably require some additional setup, to\n",
    "make the relevant file paths available to `cmd.exe`.\n",
    "Alternatively, you can use the Anaconda Prompt that comes with\n",
    "the Anaconda distribution.\n",
    "To get started, it is recommended to check out the official\n",
    "[user guide](https://docs.anaconda.com/anaconda/user-guide/),\n",
    "as well as [cheat sheets](https://conda.io/projects/conda/en/latest/user-guide/cheatsheet.html)\n",
    "with an overview of the most frequently used commands.\n",
    "\n",
    "Assuming that you have `conda` installed and available to you from the\n",
    "terminal, typing the following command should report back the version\n",
    "number of `conda` on your system:"
   ]
  },
  {
   "cell_type": "markdown",
   "id": "2b29a2a3",
   "metadata": {
    "editable": true
   },
   "source": [
    "        conda --version\n"
   ]
  },
  {
   "cell_type": "markdown",
   "id": "7b39f581",
   "metadata": {
    "editable": true
   },
   "source": [
    "If everything works, you will get something like this as output:"
   ]
  },
  {
   "cell_type": "markdown",
   "id": "e4fd367e",
   "metadata": {
    "editable": true
   },
   "source": [
    "        conda 4.10.3\n"
   ]
  },
  {
   "cell_type": "markdown",
   "id": "ac94ebc1",
   "metadata": {
    "editable": true
   },
   "source": [
    "You can list all of your available conda environments by typing:"
   ]
  },
  {
   "cell_type": "markdown",
   "id": "ee9047ff",
   "metadata": {
    "editable": true
   },
   "source": [
    "        conda info --envs\n"
   ]
  },
  {
   "cell_type": "markdown",
   "id": "b4a1441b",
   "metadata": {
    "editable": true
   },
   "source": [
    "A star asterisk points to the currently active environment.\n",
    "For a fresh Anaconda installation, you will only have one, the base\n",
    "environment.\n",
    "You can find out exactly which packages that belongs to this\n",
    "environment by writing"
   ]
  },
  {
   "cell_type": "markdown",
   "id": "dea9301d",
   "metadata": {
    "editable": true
   },
   "source": [
    "        conda list\n"
   ]
  },
  {
   "cell_type": "markdown",
   "id": "80ec82ff",
   "metadata": {
    "editable": true
   },
   "source": [
    "## How to install rockhound and cmocean into a new environment\n",
    "\n",
    "If you are on Windows, we recommend you start by opening the Anaconda prompt.\n",
    "Next, it might be a good idea to update conda by typing this in the shell:"
   ]
  },
  {
   "cell_type": "code",
   "execution_count": 17,
   "id": "03dffb8b",
   "metadata": {
    "collapsed": false,
    "editable": true
   },
   "outputs": [
    {
     "name": "stdout",
     "output_type": "stream",
     "text": [
      "\n",
      "PackageNotInstalledError: Package is not installed in prefix.\n",
      "  prefix: /opt/homebrew/anaconda3/envs/project1\n",
      "  package name: conda\n",
      "\n",
      "\n",
      "\n",
      "Note: you may need to restart the kernel to use updated packages.\n"
     ]
    }
   ],
   "source": [
    "conda update conda"
   ]
  },
  {
   "cell_type": "markdown",
   "id": "f44b775c",
   "metadata": {
    "editable": true
   },
   "source": [
    "(You can of course do this in another terminal as well, provided conda is available in your\n",
    "[PATH environment variable](https://en.wikipedia.org/wiki/PATH_(variable)).)\n",
    "The `rockhound` library and `cmocean` libraries are not present in the default\n",
    "conda channel, hence you probably need to do:"
   ]
  },
  {
   "cell_type": "code",
   "execution_count": 1,
   "id": "c20df121",
   "metadata": {
    "collapsed": false,
    "editable": true
   },
   "outputs": [
    {
     "name": "stdout",
     "output_type": "stream",
     "text": [
      "\n",
      "Note: you may need to restart the kernel to use updated packages.\n"
     ]
    }
   ],
   "source": [
    "conda config --add channels conda-forge"
   ]
  },
  {
   "cell_type": "markdown",
   "id": "c9de39d3",
   "metadata": {
    "editable": true
   },
   "source": [
    "Finally, we are ready to create a new conda environment. You can choose any\n",
    "name you want for the environment, here we use `project1`:"
   ]
  },
  {
   "cell_type": "code",
   "execution_count": 7,
   "id": "783d1592",
   "metadata": {
    "collapsed": false,
    "editable": true
   },
   "outputs": [
    {
     "name": "stdout",
     "output_type": "stream",
     "text": [
      "Channels:\n",
      " - conda-forge\n",
      " - defaults\n",
      "Platform: osx-arm64\n",
      "Collecting package metadata (repodata.json): done\n",
      "Solving environment: done\n",
      "\n",
      "## Package Plan ##\n",
      "\n",
      "  environment location: /Users/dladea/miniconda3/envs/exercise4\n",
      "\n",
      "  added / updated specs:\n",
      "    - cmocean\n",
      "    - jupyter\n",
      "    - matplotlib\n",
      "    - numpy\n",
      "    - pandas\n",
      "    - pip\n",
      "    - python\n",
      "    - rockhound\n",
      "    - scipy\n",
      "    - xarray==0.19.0\n",
      "\n",
      "\n",
      "The following packages will be downloaded:\n",
      "\n",
      "    package                    |            build\n",
      "    ---------------------------|-----------------\n",
      "    affine-2.4.0               |     pyhd8ed1ab_0          18 KB  conda-forge\n",
      "    anyio-4.4.0                |     pyhd8ed1ab_0         102 KB  conda-forge\n",
      "    argon2-cffi-23.1.0         |     pyhd8ed1ab_0          18 KB  conda-forge\n",
      "    argon2-cffi-bindings-21.2.0|  py311h460d6c5_5          32 KB  conda-forge\n",
      "    arrow-1.3.0                |     pyhd8ed1ab_0          98 KB  conda-forge\n",
      "    async-lru-2.0.4            |     pyhd8ed1ab_0          15 KB  conda-forge\n",
      "    attrs-24.2.0               |     pyh71513ae_0          55 KB  conda-forge\n",
      "    aws-c-auth-0.7.27          |       h1e647a1_0          90 KB  conda-forge\n",
      "    aws-c-cal-0.7.4            |       h41e72e7_0          39 KB  conda-forge\n",
      "    aws-c-common-0.9.27        |       h99b78c6_0         216 KB  conda-forge\n",
      "    aws-c-compression-0.2.19   |       h41e72e7_0          18 KB  conda-forge\n",
      "    aws-c-event-stream-0.4.3   |       h79ff00d_0          46 KB  conda-forge\n",
      "    aws-c-http-0.8.8           |       h69517e7_1         148 KB  conda-forge\n",
      "    aws-c-io-0.14.18           |       h20e6805_7         135 KB  conda-forge\n",
      "    aws-c-mqtt-0.10.4          |      h3e8bf47_18         114 KB  conda-forge\n",
      "    aws-c-s3-0.6.5             |       h5e39592_0          94 KB  conda-forge\n",
      "    aws-c-sdkutils-0.1.19      |       h85401af_2          49 KB  conda-forge\n",
      "    aws-checksums-0.1.18       |      h85401af_10          48 KB  conda-forge\n",
      "    aws-crt-cpp-0.28.2         |       h6f2a9b6_2         224 KB  conda-forge\n",
      "    aws-sdk-cpp-1.11.379       |       h8d911dc_8         2.5 MB  conda-forge\n",
      "    azure-core-cpp-1.13.0      |       hd01fc5c_0         281 KB  conda-forge\n",
      "    azure-identity-cpp-1.8.0   |       h13ea094_2         139 KB  conda-forge\n",
      "    azure-storage-blobs-cpp-12.12.0|       hfde595f_0         410 KB  conda-forge\n",
      "    azure-storage-common-cpp-12.7.0|       hcf3b6fd_1         117 KB  conda-forge\n",
      "    azure-storage-files-datalake-cpp-12.11.0|       h082e32e_1         185 KB  conda-forge\n",
      "    babel-2.14.0               |     pyhd8ed1ab_0         7.3 MB  conda-forge\n",
      "    beautifulsoup4-4.12.3      |     pyha770c72_0         115 KB  conda-forge\n",
      "    bleach-6.1.0               |     pyhd8ed1ab_0         128 KB  conda-forge\n",
      "    blosc-1.21.6               |       h5499902_0          32 KB  conda-forge\n",
      "    bokeh-3.5.2                |     pyhd8ed1ab_0         4.6 MB  conda-forge\n",
      "    brotli-1.1.0               |       hd74edd7_2          19 KB  conda-forge\n",
      "    brotli-bin-1.1.0           |       hd74edd7_2          16 KB  conda-forge\n",
      "    brotli-python-1.1.0        |  py311h3f08180_2         332 KB  conda-forge\n",
      "    bzip2-1.0.8                |       h99b78c6_7         120 KB  conda-forge\n",
      "    c-ares-1.33.1              |       hd74edd7_0         156 KB  conda-forge\n",
      "    cached-property-1.5.2      |       hd8ed1ab_1           4 KB  conda-forge\n",
      "    cached_property-1.5.2      |     pyha770c72_1          11 KB  conda-forge\n",
      "    cairo-1.18.0               |       hb4a6bf7_3         878 KB  conda-forge\n",
      "    certifi-2024.8.30          |     pyhd8ed1ab_0         160 KB  conda-forge\n",
      "    cffi-1.17.1                |  py311h3a79f62_0         281 KB  conda-forge\n",
      "    cfitsio-4.4.1              |       h793ed5c_0         783 KB  conda-forge\n",
      "    cftime-1.6.4               |  py311h0f07fe1_1         202 KB  conda-forge\n",
      "    charset-normalizer-3.3.2   |     pyhd8ed1ab_0          46 KB  conda-forge\n",
      "    click-8.1.7                |unix_pyh707e725_0          82 KB  conda-forge\n",
      "    click-plugins-1.1.1        |             py_0           9 KB  conda-forge\n",
      "    cligj-0.7.2                |     pyhd8ed1ab_1          10 KB  conda-forge\n",
      "    cloudpickle-3.0.0          |     pyhd8ed1ab_0          24 KB  conda-forge\n",
      "    cmocean-4.0.3              |     pyhd8ed1ab_0         296 KB  conda-forge\n",
      "    colorspacious-1.1.2        |     pyh24bf2e0_0          30 KB  conda-forge\n",
      "    contourpy-1.3.0            |  py311h2c37856_1         243 KB  conda-forge\n",
      "    cycler-0.12.1              |     pyhd8ed1ab_0          13 KB  conda-forge\n",
      "    cytoolz-0.12.3             |  py311h05b510d_0         334 KB  conda-forge\n",
      "    dask-2024.2.1              |     pyhd8ed1ab_0           7 KB  conda-forge\n",
      "    dask-core-2024.2.1         |     pyhd8ed1ab_1         861 KB  conda-forge\n",
      "    debugpy-1.8.5              |  py311h3f08180_1         2.2 MB  conda-forge\n",
      "    defusedxml-0.7.1           |     pyhd8ed1ab_0          23 KB  conda-forge\n",
      "    distributed-2024.2.1       |     pyhd8ed1ab_0         776 KB  conda-forge\n",
      "    entrypoints-0.4            |     pyhd8ed1ab_0           9 KB  conda-forge\n",
      "    expat-2.6.3                |       hf9b8971_0         122 KB  conda-forge\n",
      "    fmt-11.0.2                 |       h420ef59_0         175 KB  conda-forge\n",
      "    font-ttf-dejavu-sans-mono-2.37|       hab24e00_0         388 KB  conda-forge\n",
      "    font-ttf-inconsolata-3.000 |       h77eed37_0          94 KB  conda-forge\n",
      "    font-ttf-source-code-pro-2.038|       h77eed37_0         684 KB  conda-forge\n",
      "    font-ttf-ubuntu-0.83       |       h77eed37_2         1.5 MB  conda-forge\n",
      "    fontconfig-2.14.2          |       h82840c6_0         232 KB  conda-forge\n",
      "    fonts-conda-ecosystem-1    |                0           4 KB  conda-forge\n",
      "    fonts-conda-forge-1        |                0           4 KB  conda-forge\n",
      "    fonttools-4.53.1           |  py311h460d6c5_1         2.6 MB  conda-forge\n",
      "    fqdn-1.5.1                 |     pyhd8ed1ab_0          14 KB  conda-forge\n",
      "    freetype-2.12.1            |       hadb7bae_2         582 KB  conda-forge\n",
      "    freexl-2.0.0               |       hfbad9fb_0          54 KB  conda-forge\n",
      "    fsspec-2024.9.0            |     pyhff2d567_0         131 KB  conda-forge\n",
      "    geos-3.12.2                |       h00cdb27_1         1.3 MB  conda-forge\n",
      "    geotiff-1.7.3              |       h7e5fb84_2         112 KB  conda-forge\n",
      "    gflags-2.2.2               |    hc88da5d_1004          85 KB  conda-forge\n",
      "    giflib-5.2.2               |       h93a5062_0          70 KB  conda-forge\n",
      "    glog-0.7.1                 |       heb240a5_0         110 KB  conda-forge\n",
      "    h11-0.14.0                 |     pyhd8ed1ab_0          47 KB  conda-forge\n",
      "    h2-4.1.0                   |     pyhd8ed1ab_0          46 KB  conda-forge\n",
      "    hdf4-4.2.15                |       h2ee6834_7         744 KB  conda-forge\n",
      "    hdf5-1.14.3                |nompi_hec07895_105         3.3 MB  conda-forge\n",
      "    hpack-4.0.0                |     pyh9f0ad1d_0          25 KB  conda-forge\n",
      "    httpcore-1.0.5             |     pyhd8ed1ab_0          45 KB  conda-forge\n",
      "    httpx-0.27.2               |     pyhd8ed1ab_0          64 KB  conda-forge\n",
      "    hyperframe-6.0.1           |     pyhd8ed1ab_0          14 KB  conda-forge\n",
      "    icu-75.1                   |       hfee45f7_0        11.3 MB  conda-forge\n",
      "    idna-3.8                   |     pyhd8ed1ab_0          48 KB  conda-forge\n",
      "    importlib_resources-6.4.4  |     pyhd8ed1ab_0          32 KB  conda-forge\n",
      "    ipywidgets-8.1.5           |     pyhd8ed1ab_0         111 KB  conda-forge\n",
      "    isoduration-20.11.0        |     pyhd8ed1ab_0          17 KB  conda-forge\n",
      "    jinja2-3.1.4               |     pyhd8ed1ab_0         109 KB  conda-forge\n",
      "    json-c-0.17                |       he54c16a_1          73 KB  conda-forge\n",
      "    json5-0.9.25               |     pyhd8ed1ab_0          27 KB  conda-forge\n",
      "    jsonpointer-3.0.0          |  py311h267d04e_1          18 KB  conda-forge\n",
      "    jsonschema-4.23.0          |     pyhd8ed1ab_0          73 KB  conda-forge\n",
      "    jsonschema-specifications-2023.12.1|     pyhd8ed1ab_0          16 KB  conda-forge\n",
      "    jsonschema-with-format-nongpl-4.23.0|       hd8ed1ab_0           7 KB  conda-forge\n",
      "    jupyter-1.1.1              |     pyhd8ed1ab_0           9 KB  conda-forge\n",
      "    jupyter-lsp-2.2.5          |     pyhd8ed1ab_0          54 KB  conda-forge\n",
      "    jupyter_console-6.6.3      |     pyhd8ed1ab_0          26 KB  conda-forge\n",
      "    jupyter_core-5.7.2         |  py311h267d04e_0          94 KB  conda-forge\n",
      "    jupyter_events-0.10.0      |     pyhd8ed1ab_0          21 KB  conda-forge\n",
      "    jupyter_server-2.14.2      |     pyhd8ed1ab_0         316 KB  conda-forge\n",
      "    jupyter_server_terminals-0.5.3|     pyhd8ed1ab_0          19 KB  conda-forge\n",
      "    jupyterlab-4.2.5           |     pyhd8ed1ab_0         7.0 MB  conda-forge\n",
      "    jupyterlab_pygments-0.3.0  |     pyhd8ed1ab_1          18 KB  conda-forge\n",
      "    jupyterlab_server-2.27.3   |     pyhd8ed1ab_0          48 KB  conda-forge\n",
      "    jupyterlab_widgets-3.0.13  |     pyhd8ed1ab_0         182 KB  conda-forge\n",
      "    kealib-1.5.3               |       h8edbb62_2         139 KB  conda-forge\n",
      "    kiwisolver-1.4.7           |  py311h2c37856_0          58 KB  conda-forge\n",
      "    krb5-1.21.3                |       h237132a_0         1.1 MB  conda-forge\n",
      "    lcms2-2.16                 |       ha0e7c42_0         207 KB  conda-forge\n",
      "    lerc-4.0.0                 |       h9a09cb3_0         211 KB  conda-forge\n",
      "    libabseil-20240116.2       | cxx17_h00cdb27_1         1.1 MB  conda-forge\n",
      "    libaec-1.1.3               |       hebf3989_0          28 KB  conda-forge\n",
      "    libarchive-3.7.4           |       h83d404f_0         758 KB  conda-forge\n",
      "    libarrow-17.0.0            |  h20538ec_13_cpu         5.0 MB  conda-forge\n",
      "    libarrow-acero-17.0.0      |  hf9b8971_13_cpu         466 KB  conda-forge\n",
      "    libarrow-dataset-17.0.0    |  hf9b8971_13_cpu         471 KB  conda-forge\n",
      "    libarrow-substrait-17.0.0  |  hbf8b706_13_cpu         456 KB  conda-forge\n",
      "    libblas-3.9.0              |23_osxarm64_openblas          15 KB  conda-forge\n",
      "    libbrotlicommon-1.1.0      |       hd74edd7_2          67 KB  conda-forge\n",
      "    libbrotlidec-1.1.0         |       hd74edd7_2          28 KB  conda-forge\n",
      "    libbrotlienc-1.1.0         |       hd74edd7_2         273 KB  conda-forge\n",
      "    libcblas-3.9.0             |23_osxarm64_openblas          15 KB  conda-forge\n",
      "    libcrc32c-1.1.2            |       hbdafb3b_0          18 KB  conda-forge\n",
      "    libcurl-8.9.1              |       hfd8ffcc_0         366 KB  conda-forge\n",
      "    libcxx-18.1.8              |       h3ed4263_7         427 KB  conda-forge\n",
      "    libdeflate-1.21            |       h99b78c6_0          53 KB  conda-forge\n",
      "    libedit-3.1.20191231       |       hc8eb9b7_2          94 KB  conda-forge\n",
      "    libev-4.33                 |       h93a5062_2         105 KB  conda-forge\n",
      "    libevent-2.1.12            |       h2757513_1         360 KB  conda-forge\n",
      "    libexpat-2.6.3             |       hf9b8971_0          62 KB  conda-forge\n",
      "    libffi-3.4.2               |       h3422bc3_5          38 KB  conda-forge\n",
      "    libgdal-3.9.2              |       hce30654_1         413 KB  conda-forge\n",
      "    libgdal-core-3.9.2         |       hcf5b7dd_1         7.8 MB  conda-forge\n",
      "    libgdal-fits-3.9.2         |       h248c7bc_1         455 KB  conda-forge\n",
      "    libgdal-grib-3.9.2         |       h6d3d72d_1         637 KB  conda-forge\n",
      "    libgdal-hdf4-3.9.2         |       h3847bb8_1         564 KB  conda-forge\n",
      "    libgdal-hdf5-3.9.2         |       h2def128_1         576 KB  conda-forge\n",
      "    libgdal-jp2openjpeg-3.9.2  |       hd61e619_1         452 KB  conda-forge\n",
      "    libgdal-kea-3.9.2          |       h7b2de0b_1         458 KB  conda-forge\n",
      "    libgdal-netcdf-3.9.2       |       h5e0d008_1         651 KB  conda-forge\n",
      "    libgdal-pdf-3.9.2          |       h587d690_1         585 KB  conda-forge\n",
      "    libgdal-pg-3.9.2           |       h147afc8_1         491 KB  conda-forge\n",
      "    libgdal-postgisraster-3.9.2|       h147afc8_1         457 KB  conda-forge\n",
      "    libgdal-tiledb-3.9.2       |       hf17dc73_1         601 KB  conda-forge\n",
      "    libgdal-xls-3.9.2          |       habc1c91_1         422 KB  conda-forge\n",
      "    libgfortran-5.0.0          |13_2_0_hd922786_3         108 KB  conda-forge\n",
      "    libgfortran5-13.2.0        |       hf226fd6_3         974 KB  conda-forge\n",
      "    libglib-2.80.3             |       h59d46d9_2         3.5 MB  conda-forge\n",
      "    libgoogle-cloud-2.28.0     |       hfe08963_0         829 KB  conda-forge\n",
      "    libgoogle-cloud-storage-2.28.0|       h1466eeb_0         510 KB  conda-forge\n",
      "    libgrpc-1.62.2             |       h9c18a4f_0         4.8 MB  conda-forge\n",
      "    libiconv-1.17              |       h0d3ecfb_2         661 KB  conda-forge\n",
      "    libintl-0.22.5             |       h8414b35_3          79 KB  conda-forge\n",
      "    libjpeg-turbo-3.0.0        |       hb547adb_1         535 KB  conda-forge\n",
      "    libkml-1.3.0               |    he250239_1021         275 KB  conda-forge\n",
      "    liblapack-3.9.0            |23_osxarm64_openblas          15 KB  conda-forge\n",
      "    libnetcdf-4.9.2            |nompi_he469be0_114         665 KB  conda-forge\n",
      "    libnghttp2-1.58.0          |       ha4dd798_1         552 KB  conda-forge\n",
      "    libopenblas-0.3.27         |openmp_h517c56d_1         2.8 MB  conda-forge\n",
      "    libparquet-17.0.0          |  hf0ba9ef_13_cpu         839 KB  conda-forge\n",
      "    libpng-1.6.43              |       h091b4b1_0         258 KB  conda-forge\n",
      "    libpq-16.4                 |       h671472c_1         2.3 MB  conda-forge\n",
      "    libprotobuf-4.25.3         |       hbfab5d5_0         2.1 MB  conda-forge\n",
      "    libre2-11-2023.09.01       |       h7b2c953_2         167 KB  conda-forge\n",
      "    librttopo-1.1.0            |      h31fb324_16         187 KB  conda-forge\n",
      "    libsodium-1.0.20           |       h99b78c6_0         161 KB  conda-forge\n",
      "    libspatialite-5.1.0        |       hf7a34df_9         2.9 MB  conda-forge\n",
      "    libsqlite-3.46.1           |       hc14010f_0         810 KB  conda-forge\n",
      "    libssh2-1.11.0             |       h7a5bd25_0         250 KB  conda-forge\n",
      "    libthrift-0.20.0           |       h64651cc_1         308 KB  conda-forge\n",
      "    libtiff-4.6.0              |       hf8409c0_4         233 KB  conda-forge\n",
      "    libutf8proc-2.8.0          |       h1a8c8d9_0         101 KB  conda-forge\n",
      "    libwebp-base-1.4.0         |       h93a5062_0         281 KB  conda-forge\n",
      "    libxcb-1.16                |       hc9fafa5_1         318 KB  conda-forge\n",
      "    libxml2-2.12.7             |       h01dff8b_4         575 KB  conda-forge\n",
      "    libzip-1.10.1              |       ha0bc3c6_3         125 KB  conda-forge\n",
      "    libzlib-1.3.1              |       hfb2fe0b_1          46 KB  conda-forge\n",
      "    llvm-openmp-18.1.8         |       hde57baf_1         270 KB  conda-forge\n",
      "    locket-1.0.0               |     pyhd8ed1ab_0           8 KB  conda-forge\n",
      "    lz4-4.3.3                  |  py311hebe0b09_1         106 KB  conda-forge\n",
      "    lz4-c-1.9.4                |       hb7217d7_0         138 KB  conda-forge\n",
      "    lzo-2.10                   |    h93a5062_1001         128 KB  conda-forge\n",
      "    markupsafe-2.1.5           |  py311h460d6c5_1          26 KB  conda-forge\n",
      "    matplotlib-3.9.2           |  py311ha1ab1f8_0           9 KB  conda-forge\n",
      "    matplotlib-base-3.9.2      |  py311hba6b155_0         7.4 MB  conda-forge\n",
      "    minizip-4.0.7              |       h27ee973_0          76 KB  conda-forge\n",
      "    mistune-3.0.2              |     pyhd8ed1ab_0          64 KB  conda-forge\n",
      "    msgpack-python-1.0.8       |  py311h2c37856_1          92 KB  conda-forge\n",
      "    munkres-1.1.4              |     pyh9f0ad1d_0          12 KB  conda-forge\n",
      "    nbclient-0.10.0            |     pyhd8ed1ab_0          27 KB  conda-forge\n",
      "    nbconvert-core-7.16.4      |     pyhd8ed1ab_1         185 KB  conda-forge\n",
      "    nbformat-5.10.4            |     pyhd8ed1ab_0          99 KB  conda-forge\n",
      "    ncurses-6.5                |       h7bae524_1         784 KB  conda-forge\n",
      "    netcdf4-1.7.1              |nompi_py311he40982b_102        1010 KB  conda-forge\n",
      "    notebook-7.2.2             |     pyhd8ed1ab_0         3.7 MB  conda-forge\n",
      "    notebook-shim-0.2.4        |     pyhd8ed1ab_0          16 KB  conda-forge\n",
      "    nspr-4.35                  |       hb7217d7_0         216 KB  conda-forge\n",
      "    nss-3.104                  |       hd1ce637_0         1.7 MB  conda-forge\n",
      "    numpy-1.26.4               |  py311h7125741_0         6.3 MB  conda-forge\n",
      "    openjpeg-2.5.2             |       h9f1df11_0         309 KB  conda-forge\n",
      "    orc-2.0.2                  |       h75dedd0_0         426 KB  conda-forge\n",
      "    overrides-7.7.0            |     pyhd8ed1ab_0          30 KB  conda-forge\n",
      "    pandas-1.5.3               |  py311h4eec4a9_1        13.2 MB  conda-forge\n",
      "    pandocfilters-1.5.0        |     pyhd8ed1ab_0          11 KB  conda-forge\n",
      "    partd-1.4.2                |     pyhd8ed1ab_0          20 KB  conda-forge\n",
      "    pcre2-10.44                |       h297a79d_2         604 KB  conda-forge\n",
      "    pillow-10.4.0              |  py311hd7951ec_0        39.9 MB  conda-forge\n",
      "    pip-24.2                   |     pyh8b19718_1         1.2 MB  conda-forge\n",
      "    pixman-0.43.4              |       hebf3989_0         194 KB  conda-forge\n",
      "    pkgutil-resolve-name-1.3.10|     pyhd8ed1ab_1          11 KB  conda-forge\n",
      "    pooch-1.8.2                |     pyhd8ed1ab_0          53 KB  conda-forge\n",
      "    poppler-24.08.0            |       h37b219d_1         1.4 MB  conda-forge\n",
      "    poppler-data-0.4.12        |       hd8ed1ab_0         2.2 MB  conda-forge\n",
      "    postgresql-16.4            |       ha29bbc8_1         4.2 MB  conda-forge\n",
      "    proj-9.4.1                 |       hfb94cee_1         2.6 MB  conda-forge\n",
      "    prometheus_client-0.20.0   |     pyhd8ed1ab_0          48 KB  conda-forge\n",
      "    prompt_toolkit-3.0.47      |       hd8ed1ab_0           7 KB  conda-forge\n",
      "    psutil-6.0.0               |  py311hd3f4193_0         505 KB  conda-forge\n",
      "    pthread-stubs-0.4          |    h27ca646_1001           6 KB  conda-forge\n",
      "    pyarrow-17.0.0             |  py311h35c05fe_1          25 KB  conda-forge\n",
      "    pyarrow-core-17.0.0        |py311he42f270_1_cpu         3.8 MB  conda-forge\n",
      "    pyarrow-hotfix-0.6         |     pyhd8ed1ab_0          13 KB  conda-forge\n",
      "    pycparser-2.22             |     pyhd8ed1ab_0         103 KB  conda-forge\n",
      "    pyobjc-core-10.3.1         |  py311h5f135c3_0         470 KB  conda-forge\n",
      "    pyobjc-framework-cocoa-10.3.1|  py311h5f135c3_0         376 KB  conda-forge\n",
      "    pyparsing-3.1.4            |     pyhd8ed1ab_0          88 KB  conda-forge\n",
      "    pysocks-1.7.1              |     pyha2e5f31_6          19 KB  conda-forge\n",
      "    python-3.11.9              |h932a869_0_cpython        14.0 MB  conda-forge\n",
      "    python-fastjsonschema-2.20.0|     pyhd8ed1ab_0         221 KB  conda-forge\n",
      "    python-json-logger-2.0.7   |     pyhd8ed1ab_0          13 KB  conda-forge\n",
      "    python_abi-3.11            |          5_cp311           6 KB  conda-forge\n",
      "    pytz-2024.1                |     pyhd8ed1ab_0         184 KB  conda-forge\n",
      "    pyyaml-6.0.2               |  py311h460d6c5_1         188 KB  conda-forge\n",
      "    pyzmq-26.2.0               |  py311h137d824_2         357 KB  conda-forge\n",
      "    qhull-2020.2               |       h420ef59_5         504 KB  conda-forge\n",
      "    rasterio-1.3.11            |  py311h425640f_0         7.2 MB  conda-forge\n",
      "    re2-2023.09.01             |       h4cba328_2          26 KB  conda-forge\n",
      "    readline-8.2               |       h92ec313_1         244 KB  conda-forge\n",
      "    referencing-0.35.1         |     pyhd8ed1ab_0          41 KB  conda-forge\n",
      "    requests-2.32.3            |     pyhd8ed1ab_0          57 KB  conda-forge\n",
      "    rfc3339-validator-0.1.4    |     pyhd8ed1ab_0           8 KB  conda-forge\n",
      "    rfc3986-validator-0.1.1    |     pyh9f0ad1d_0           8 KB  conda-forge\n",
      "    rockhound-0.2.0            |             py_0          29 KB  conda-forge\n",
      "    rpds-py-0.20.0             |  py311h481aa64_1         284 KB  conda-forge\n",
      "    scipy-1.14.1               |  py311h2929bc6_0        14.7 MB  conda-forge\n",
      "    send2trash-1.8.3           |     pyh31c8845_0          23 KB  conda-forge\n",
      "    setuptools-73.0.1          |     pyhd8ed1ab_0         1.4 MB  conda-forge\n",
      "    snappy-1.2.1               |       hd02b534_0          35 KB  conda-forge\n",
      "    sniffio-1.3.1              |     pyhd8ed1ab_0          15 KB  conda-forge\n",
      "    snuggs-1.4.7               |     pyhd8ed1ab_1          11 KB  conda-forge\n",
      "    sortedcontainers-2.4.0     |     pyhd8ed1ab_0          26 KB  conda-forge\n",
      "    soupsieve-2.5              |     pyhd8ed1ab_1          36 KB  conda-forge\n",
      "    spdlog-1.14.1              |       h6d8af72_1         160 KB  conda-forge\n",
      "    sqlite-3.46.1              |       h3b4c4e4_0         803 KB  conda-forge\n",
      "    tblib-3.0.0                |     pyhd8ed1ab_0          17 KB  conda-forge\n",
      "    terminado-0.18.1           |     pyh31c8845_0          22 KB  conda-forge\n",
      "    tiledb-2.25.0              |      h3c94177_11         3.4 MB  conda-forge\n",
      "    tinycss2-1.3.0             |     pyhd8ed1ab_0          25 KB  conda-forge\n",
      "    tk-8.6.13                  |       h5083fa2_1         3.0 MB  conda-forge\n",
      "    tomli-2.0.1                |     pyhd8ed1ab_0          16 KB  conda-forge\n",
      "    toolz-0.12.1               |     pyhd8ed1ab_0          51 KB  conda-forge\n",
      "    tornado-6.4.1              |  py311h460d6c5_1         839 KB  conda-forge\n",
      "    types-python-dateutil-2.9.0.20240906|     pyhd8ed1ab_0          21 KB  conda-forge\n",
      "    typing-extensions-4.12.2   |       hd8ed1ab_0          10 KB  conda-forge\n",
      "    typing_utils-0.1.0         |     pyhd8ed1ab_0          14 KB  conda-forge\n",
      "    tzcode-2024b               |       hd74edd7_0          61 KB  conda-forge\n",
      "    tzdata-2024a               |       h8827d51_1         121 KB  conda-forge\n",
      "    uri-template-1.3.0         |     pyhd8ed1ab_0          23 KB  conda-forge\n",
      "    uriparser-0.9.8            |       h00cdb27_0          40 KB  conda-forge\n",
      "    urllib3-2.2.2              |     pyhd8ed1ab_1          93 KB  conda-forge\n",
      "    webcolors-24.8.0           |     pyhd8ed1ab_0          18 KB  conda-forge\n",
      "    webencodings-0.5.1         |     pyhd8ed1ab_2          15 KB  conda-forge\n",
      "    websocket-client-1.8.0     |     pyhd8ed1ab_0          46 KB  conda-forge\n",
      "    wheel-0.44.0               |     pyhd8ed1ab_0          57 KB  conda-forge\n",
      "    widgetsnbextension-4.0.13  |     pyhd8ed1ab_0         878 KB  conda-forge\n",
      "    xarray-0.19.0              |     pyhd8ed1ab_1         614 KB  conda-forge\n",
      "    xerces-c-3.2.5             |       h0a46525_1         1.2 MB  conda-forge\n",
      "    xorg-libxau-1.0.11         |       hb547adb_0          13 KB  conda-forge\n",
      "    xorg-libxdmcp-1.1.3        |       h27ca646_0          18 KB  conda-forge\n",
      "    xyzservices-2024.9.0       |     pyhd8ed1ab_0          46 KB  conda-forge\n",
      "    xz-5.2.6                   |       h57fd34a_0         230 KB  conda-forge\n",
      "    yaml-0.2.5                 |       h3422bc3_2          86 KB  conda-forge\n",
      "    zeromq-4.3.5               |       h64debc3_5         289 KB  conda-forge\n",
      "    zict-3.0.0                 |     pyhd8ed1ab_0          35 KB  conda-forge\n",
      "    zlib-1.3.1                 |       hfb2fe0b_1          76 KB  conda-forge\n",
      "    zstandard-0.23.0           |  py311ha60cc69_1         324 KB  conda-forge\n",
      "    zstd-1.5.6                 |       hb46c0d2_0         396 KB  conda-forge\n",
      "    ------------------------------------------------------------\n",
      "                                           Total:       257.8 MB\n",
      "\n",
      "The following NEW packages will be INSTALLED:\n",
      "\n",
      "  affine             conda-forge/noarch::affine-2.4.0-pyhd8ed1ab_0 \n",
      "  anyio              conda-forge/noarch::anyio-4.4.0-pyhd8ed1ab_0 \n",
      "  appnope            conda-forge/noarch::appnope-0.1.4-pyhd8ed1ab_0 \n",
      "  argon2-cffi        conda-forge/noarch::argon2-cffi-23.1.0-pyhd8ed1ab_0 \n",
      "  argon2-cffi-bindi~ conda-forge/osx-arm64::argon2-cffi-bindings-21.2.0-py311h460d6c5_5 \n",
      "  arrow              conda-forge/noarch::arrow-1.3.0-pyhd8ed1ab_0 \n",
      "  asttokens          conda-forge/noarch::asttokens-2.4.1-pyhd8ed1ab_0 \n",
      "  async-lru          conda-forge/noarch::async-lru-2.0.4-pyhd8ed1ab_0 \n",
      "  attrs              conda-forge/noarch::attrs-24.2.0-pyh71513ae_0 \n",
      "  aws-c-auth         conda-forge/osx-arm64::aws-c-auth-0.7.27-h1e647a1_0 \n",
      "  aws-c-cal          conda-forge/osx-arm64::aws-c-cal-0.7.4-h41e72e7_0 \n",
      "  aws-c-common       conda-forge/osx-arm64::aws-c-common-0.9.27-h99b78c6_0 \n",
      "  aws-c-compression  conda-forge/osx-arm64::aws-c-compression-0.2.19-h41e72e7_0 \n",
      "  aws-c-event-stream conda-forge/osx-arm64::aws-c-event-stream-0.4.3-h79ff00d_0 \n",
      "  aws-c-http         conda-forge/osx-arm64::aws-c-http-0.8.8-h69517e7_1 \n",
      "  aws-c-io           conda-forge/osx-arm64::aws-c-io-0.14.18-h20e6805_7 \n",
      "  aws-c-mqtt         conda-forge/osx-arm64::aws-c-mqtt-0.10.4-h3e8bf47_18 \n",
      "  aws-c-s3           conda-forge/osx-arm64::aws-c-s3-0.6.5-h5e39592_0 \n",
      "  aws-c-sdkutils     conda-forge/osx-arm64::aws-c-sdkutils-0.1.19-h85401af_2 \n",
      "  aws-checksums      conda-forge/osx-arm64::aws-checksums-0.1.18-h85401af_10 \n",
      "  aws-crt-cpp        conda-forge/osx-arm64::aws-crt-cpp-0.28.2-h6f2a9b6_2 \n",
      "  aws-sdk-cpp        conda-forge/osx-arm64::aws-sdk-cpp-1.11.379-h8d911dc_8 \n",
      "  azure-core-cpp     conda-forge/osx-arm64::azure-core-cpp-1.13.0-hd01fc5c_0 \n",
      "  azure-identity-cpp conda-forge/osx-arm64::azure-identity-cpp-1.8.0-h13ea094_2 \n",
      "  azure-storage-blo~ conda-forge/osx-arm64::azure-storage-blobs-cpp-12.12.0-hfde595f_0 \n",
      "  azure-storage-com~ conda-forge/osx-arm64::azure-storage-common-cpp-12.7.0-hcf3b6fd_1 \n",
      "  azure-storage-fil~ conda-forge/osx-arm64::azure-storage-files-datalake-cpp-12.11.0-h082e32e_1 \n",
      "  babel              conda-forge/noarch::babel-2.14.0-pyhd8ed1ab_0 \n",
      "  beautifulsoup4     conda-forge/noarch::beautifulsoup4-4.12.3-pyha770c72_0 \n",
      "  bleach             conda-forge/noarch::bleach-6.1.0-pyhd8ed1ab_0 \n",
      "  blosc              conda-forge/osx-arm64::blosc-1.21.6-h5499902_0 \n",
      "  bokeh              conda-forge/noarch::bokeh-3.5.2-pyhd8ed1ab_0 \n",
      "  brotli             conda-forge/osx-arm64::brotli-1.1.0-hd74edd7_2 \n",
      "  brotli-bin         conda-forge/osx-arm64::brotli-bin-1.1.0-hd74edd7_2 \n",
      "  brotli-python      conda-forge/osx-arm64::brotli-python-1.1.0-py311h3f08180_2 \n",
      "  bzip2              conda-forge/osx-arm64::bzip2-1.0.8-h99b78c6_7 \n",
      "  c-ares             conda-forge/osx-arm64::c-ares-1.33.1-hd74edd7_0 \n",
      "  ca-certificates    conda-forge/osx-arm64::ca-certificates-2024.8.30-hf0a4a13_0 \n",
      "  cached-property    conda-forge/noarch::cached-property-1.5.2-hd8ed1ab_1 \n",
      "  cached_property    conda-forge/noarch::cached_property-1.5.2-pyha770c72_1 \n",
      "  cairo              conda-forge/osx-arm64::cairo-1.18.0-hb4a6bf7_3 \n",
      "  certifi            conda-forge/noarch::certifi-2024.8.30-pyhd8ed1ab_0 \n",
      "  cffi               conda-forge/osx-arm64::cffi-1.17.1-py311h3a79f62_0 \n",
      "  cfitsio            conda-forge/osx-arm64::cfitsio-4.4.1-h793ed5c_0 \n",
      "  cftime             conda-forge/osx-arm64::cftime-1.6.4-py311h0f07fe1_1 \n",
      "  charset-normalizer conda-forge/noarch::charset-normalizer-3.3.2-pyhd8ed1ab_0 \n",
      "  click              conda-forge/noarch::click-8.1.7-unix_pyh707e725_0 \n",
      "  click-plugins      conda-forge/noarch::click-plugins-1.1.1-py_0 \n",
      "  cligj              conda-forge/noarch::cligj-0.7.2-pyhd8ed1ab_1 \n",
      "  cloudpickle        conda-forge/noarch::cloudpickle-3.0.0-pyhd8ed1ab_0 \n",
      "  cmocean            conda-forge/noarch::cmocean-4.0.3-pyhd8ed1ab_0 \n",
      "  colorspacious      conda-forge/noarch::colorspacious-1.1.2-pyh24bf2e0_0 \n",
      "  comm               conda-forge/noarch::comm-0.2.2-pyhd8ed1ab_0 \n",
      "  contourpy          conda-forge/osx-arm64::contourpy-1.3.0-py311h2c37856_1 \n",
      "  cycler             conda-forge/noarch::cycler-0.12.1-pyhd8ed1ab_0 \n",
      "  cytoolz            conda-forge/osx-arm64::cytoolz-0.12.3-py311h05b510d_0 \n",
      "  dask               conda-forge/noarch::dask-2024.2.1-pyhd8ed1ab_0 \n",
      "  dask-core          conda-forge/noarch::dask-core-2024.2.1-pyhd8ed1ab_1 \n",
      "  debugpy            conda-forge/osx-arm64::debugpy-1.8.5-py311h3f08180_1 \n",
      "  decorator          conda-forge/noarch::decorator-5.1.1-pyhd8ed1ab_0 \n",
      "  defusedxml         conda-forge/noarch::defusedxml-0.7.1-pyhd8ed1ab_0 \n",
      "  distributed        conda-forge/noarch::distributed-2024.2.1-pyhd8ed1ab_0 \n",
      "  entrypoints        conda-forge/noarch::entrypoints-0.4-pyhd8ed1ab_0 \n",
      "  exceptiongroup     conda-forge/noarch::exceptiongroup-1.2.2-pyhd8ed1ab_0 \n",
      "  executing          conda-forge/noarch::executing-2.1.0-pyhd8ed1ab_0 \n",
      "  expat              conda-forge/osx-arm64::expat-2.6.3-hf9b8971_0 \n",
      "  fmt                conda-forge/osx-arm64::fmt-11.0.2-h420ef59_0 \n",
      "  font-ttf-dejavu-s~ conda-forge/noarch::font-ttf-dejavu-sans-mono-2.37-hab24e00_0 \n",
      "  font-ttf-inconsol~ conda-forge/noarch::font-ttf-inconsolata-3.000-h77eed37_0 \n",
      "  font-ttf-source-c~ conda-forge/noarch::font-ttf-source-code-pro-2.038-h77eed37_0 \n",
      "  font-ttf-ubuntu    conda-forge/noarch::font-ttf-ubuntu-0.83-h77eed37_2 \n",
      "  fontconfig         conda-forge/osx-arm64::fontconfig-2.14.2-h82840c6_0 \n",
      "  fonts-conda-ecosy~ conda-forge/noarch::fonts-conda-ecosystem-1-0 \n",
      "  fonts-conda-forge  conda-forge/noarch::fonts-conda-forge-1-0 \n",
      "  fonttools          conda-forge/osx-arm64::fonttools-4.53.1-py311h460d6c5_1 \n",
      "  fqdn               conda-forge/noarch::fqdn-1.5.1-pyhd8ed1ab_0 \n",
      "  freetype           conda-forge/osx-arm64::freetype-2.12.1-hadb7bae_2 \n",
      "  freexl             conda-forge/osx-arm64::freexl-2.0.0-hfbad9fb_0 \n",
      "  fsspec             conda-forge/noarch::fsspec-2024.9.0-pyhff2d567_0 \n",
      "  geos               conda-forge/osx-arm64::geos-3.12.2-h00cdb27_1 \n",
      "  geotiff            conda-forge/osx-arm64::geotiff-1.7.3-h7e5fb84_2 \n",
      "  gflags             conda-forge/osx-arm64::gflags-2.2.2-hc88da5d_1004 \n",
      "  giflib             conda-forge/osx-arm64::giflib-5.2.2-h93a5062_0 \n",
      "  glog               conda-forge/osx-arm64::glog-0.7.1-heb240a5_0 \n",
      "  h11                conda-forge/noarch::h11-0.14.0-pyhd8ed1ab_0 \n",
      "  h2                 conda-forge/noarch::h2-4.1.0-pyhd8ed1ab_0 \n",
      "  hdf4               conda-forge/osx-arm64::hdf4-4.2.15-h2ee6834_7 \n",
      "  hdf5               conda-forge/osx-arm64::hdf5-1.14.3-nompi_hec07895_105 \n",
      "  hpack              conda-forge/noarch::hpack-4.0.0-pyh9f0ad1d_0 \n",
      "  httpcore           conda-forge/noarch::httpcore-1.0.5-pyhd8ed1ab_0 \n",
      "  httpx              conda-forge/noarch::httpx-0.27.2-pyhd8ed1ab_0 \n",
      "  hyperframe         conda-forge/noarch::hyperframe-6.0.1-pyhd8ed1ab_0 \n",
      "  icu                conda-forge/osx-arm64::icu-75.1-hfee45f7_0 \n",
      "  idna               conda-forge/noarch::idna-3.8-pyhd8ed1ab_0 \n",
      "  importlib-metadata conda-forge/noarch::importlib-metadata-8.4.0-pyha770c72_0 \n",
      "  importlib_metadata conda-forge/noarch::importlib_metadata-8.4.0-hd8ed1ab_0 \n",
      "  importlib_resourc~ conda-forge/noarch::importlib_resources-6.4.4-pyhd8ed1ab_0 \n",
      "  ipykernel          conda-forge/noarch::ipykernel-6.29.5-pyh57ce528_0 \n",
      "  ipython            conda-forge/noarch::ipython-8.27.0-pyh707e725_0 \n",
      "  ipywidgets         conda-forge/noarch::ipywidgets-8.1.5-pyhd8ed1ab_0 \n",
      "  isoduration        conda-forge/noarch::isoduration-20.11.0-pyhd8ed1ab_0 \n",
      "  jedi               conda-forge/noarch::jedi-0.19.1-pyhd8ed1ab_0 \n",
      "  jinja2             conda-forge/noarch::jinja2-3.1.4-pyhd8ed1ab_0 \n",
      "  json-c             conda-forge/osx-arm64::json-c-0.17-he54c16a_1 \n",
      "  json5              conda-forge/noarch::json5-0.9.25-pyhd8ed1ab_0 \n",
      "  jsonpointer        conda-forge/osx-arm64::jsonpointer-3.0.0-py311h267d04e_1 \n",
      "  jsonschema         conda-forge/noarch::jsonschema-4.23.0-pyhd8ed1ab_0 \n",
      "  jsonschema-specif~ conda-forge/noarch::jsonschema-specifications-2023.12.1-pyhd8ed1ab_0 \n",
      "  jsonschema-with-f~ conda-forge/noarch::jsonschema-with-format-nongpl-4.23.0-hd8ed1ab_0 \n",
      "  jupyter            conda-forge/noarch::jupyter-1.1.1-pyhd8ed1ab_0 \n",
      "  jupyter-lsp        conda-forge/noarch::jupyter-lsp-2.2.5-pyhd8ed1ab_0 \n",
      "  jupyter_client     conda-forge/noarch::jupyter_client-8.6.2-pyhd8ed1ab_0 \n",
      "  jupyter_console    conda-forge/noarch::jupyter_console-6.6.3-pyhd8ed1ab_0 \n",
      "  jupyter_core       conda-forge/osx-arm64::jupyter_core-5.7.2-py311h267d04e_0 \n",
      "  jupyter_events     conda-forge/noarch::jupyter_events-0.10.0-pyhd8ed1ab_0 \n",
      "  jupyter_server     conda-forge/noarch::jupyter_server-2.14.2-pyhd8ed1ab_0 \n",
      "  jupyter_server_te~ conda-forge/noarch::jupyter_server_terminals-0.5.3-pyhd8ed1ab_0 \n",
      "  jupyterlab         conda-forge/noarch::jupyterlab-4.2.5-pyhd8ed1ab_0 \n",
      "  jupyterlab_pygmen~ conda-forge/noarch::jupyterlab_pygments-0.3.0-pyhd8ed1ab_1 \n",
      "  jupyterlab_server  conda-forge/noarch::jupyterlab_server-2.27.3-pyhd8ed1ab_0 \n",
      "  jupyterlab_widgets conda-forge/noarch::jupyterlab_widgets-3.0.13-pyhd8ed1ab_0 \n",
      "  kealib             conda-forge/osx-arm64::kealib-1.5.3-h8edbb62_2 \n",
      "  kiwisolver         conda-forge/osx-arm64::kiwisolver-1.4.7-py311h2c37856_0 \n",
      "  krb5               conda-forge/osx-arm64::krb5-1.21.3-h237132a_0 \n",
      "  lcms2              conda-forge/osx-arm64::lcms2-2.16-ha0e7c42_0 \n",
      "  lerc               conda-forge/osx-arm64::lerc-4.0.0-h9a09cb3_0 \n",
      "  libabseil          conda-forge/osx-arm64::libabseil-20240116.2-cxx17_h00cdb27_1 \n",
      "  libaec             conda-forge/osx-arm64::libaec-1.1.3-hebf3989_0 \n",
      "  libarchive         conda-forge/osx-arm64::libarchive-3.7.4-h83d404f_0 \n",
      "  libarrow           conda-forge/osx-arm64::libarrow-17.0.0-h20538ec_13_cpu \n",
      "  libarrow-acero     conda-forge/osx-arm64::libarrow-acero-17.0.0-hf9b8971_13_cpu \n",
      "  libarrow-dataset   conda-forge/osx-arm64::libarrow-dataset-17.0.0-hf9b8971_13_cpu \n",
      "  libarrow-substrait conda-forge/osx-arm64::libarrow-substrait-17.0.0-hbf8b706_13_cpu \n",
      "  libblas            conda-forge/osx-arm64::libblas-3.9.0-23_osxarm64_openblas \n",
      "  libbrotlicommon    conda-forge/osx-arm64::libbrotlicommon-1.1.0-hd74edd7_2 \n",
      "  libbrotlidec       conda-forge/osx-arm64::libbrotlidec-1.1.0-hd74edd7_2 \n",
      "  libbrotlienc       conda-forge/osx-arm64::libbrotlienc-1.1.0-hd74edd7_2 \n",
      "  libcblas           conda-forge/osx-arm64::libcblas-3.9.0-23_osxarm64_openblas \n",
      "  libcrc32c          conda-forge/osx-arm64::libcrc32c-1.1.2-hbdafb3b_0 \n",
      "  libcurl            conda-forge/osx-arm64::libcurl-8.9.1-hfd8ffcc_0 \n",
      "  libcxx             conda-forge/osx-arm64::libcxx-18.1.8-h3ed4263_7 \n",
      "  libdeflate         conda-forge/osx-arm64::libdeflate-1.21-h99b78c6_0 \n",
      "  libedit            conda-forge/osx-arm64::libedit-3.1.20191231-hc8eb9b7_2 \n",
      "  libev              conda-forge/osx-arm64::libev-4.33-h93a5062_2 \n",
      "  libevent           conda-forge/osx-arm64::libevent-2.1.12-h2757513_1 \n",
      "  libexpat           conda-forge/osx-arm64::libexpat-2.6.3-hf9b8971_0 \n",
      "  libffi             conda-forge/osx-arm64::libffi-3.4.2-h3422bc3_5 \n",
      "  libgdal            conda-forge/osx-arm64::libgdal-3.9.2-hce30654_1 \n",
      "  libgdal-core       conda-forge/osx-arm64::libgdal-core-3.9.2-hcf5b7dd_1 \n",
      "  libgdal-fits       conda-forge/osx-arm64::libgdal-fits-3.9.2-h248c7bc_1 \n",
      "  libgdal-grib       conda-forge/osx-arm64::libgdal-grib-3.9.2-h6d3d72d_1 \n",
      "  libgdal-hdf4       conda-forge/osx-arm64::libgdal-hdf4-3.9.2-h3847bb8_1 \n",
      "  libgdal-hdf5       conda-forge/osx-arm64::libgdal-hdf5-3.9.2-h2def128_1 \n",
      "  libgdal-jp2openjp~ conda-forge/osx-arm64::libgdal-jp2openjpeg-3.9.2-hd61e619_1 \n",
      "  libgdal-kea        conda-forge/osx-arm64::libgdal-kea-3.9.2-h7b2de0b_1 \n",
      "  libgdal-netcdf     conda-forge/osx-arm64::libgdal-netcdf-3.9.2-h5e0d008_1 \n",
      "  libgdal-pdf        conda-forge/osx-arm64::libgdal-pdf-3.9.2-h587d690_1 \n",
      "  libgdal-pg         conda-forge/osx-arm64::libgdal-pg-3.9.2-h147afc8_1 \n",
      "  libgdal-postgisra~ conda-forge/osx-arm64::libgdal-postgisraster-3.9.2-h147afc8_1 \n",
      "  libgdal-tiledb     conda-forge/osx-arm64::libgdal-tiledb-3.9.2-hf17dc73_1 \n",
      "  libgdal-xls        conda-forge/osx-arm64::libgdal-xls-3.9.2-habc1c91_1 \n",
      "  libgfortran        conda-forge/osx-arm64::libgfortran-5.0.0-13_2_0_hd922786_3 \n",
      "  libgfortran5       conda-forge/osx-arm64::libgfortran5-13.2.0-hf226fd6_3 \n",
      "  libglib            conda-forge/osx-arm64::libglib-2.80.3-h59d46d9_2 \n",
      "  libgoogle-cloud    conda-forge/osx-arm64::libgoogle-cloud-2.28.0-hfe08963_0 \n",
      "  libgoogle-cloud-s~ conda-forge/osx-arm64::libgoogle-cloud-storage-2.28.0-h1466eeb_0 \n",
      "  libgrpc            conda-forge/osx-arm64::libgrpc-1.62.2-h9c18a4f_0 \n",
      "  libiconv           conda-forge/osx-arm64::libiconv-1.17-h0d3ecfb_2 \n",
      "  libintl            conda-forge/osx-arm64::libintl-0.22.5-h8414b35_3 \n",
      "  libjpeg-turbo      conda-forge/osx-arm64::libjpeg-turbo-3.0.0-hb547adb_1 \n",
      "  libkml             conda-forge/osx-arm64::libkml-1.3.0-he250239_1021 \n",
      "  liblapack          conda-forge/osx-arm64::liblapack-3.9.0-23_osxarm64_openblas \n",
      "  libnetcdf          conda-forge/osx-arm64::libnetcdf-4.9.2-nompi_he469be0_114 \n",
      "  libnghttp2         conda-forge/osx-arm64::libnghttp2-1.58.0-ha4dd798_1 \n",
      "  libopenblas        conda-forge/osx-arm64::libopenblas-0.3.27-openmp_h517c56d_1 \n",
      "  libparquet         conda-forge/osx-arm64::libparquet-17.0.0-hf0ba9ef_13_cpu \n",
      "  libpng             conda-forge/osx-arm64::libpng-1.6.43-h091b4b1_0 \n",
      "  libpq              conda-forge/osx-arm64::libpq-16.4-h671472c_1 \n",
      "  libprotobuf        conda-forge/osx-arm64::libprotobuf-4.25.3-hbfab5d5_0 \n",
      "  libre2-11          conda-forge/osx-arm64::libre2-11-2023.09.01-h7b2c953_2 \n",
      "  librttopo          conda-forge/osx-arm64::librttopo-1.1.0-h31fb324_16 \n",
      "  libsodium          conda-forge/osx-arm64::libsodium-1.0.20-h99b78c6_0 \n",
      "  libspatialite      conda-forge/osx-arm64::libspatialite-5.1.0-hf7a34df_9 \n",
      "  libsqlite          conda-forge/osx-arm64::libsqlite-3.46.1-hc14010f_0 \n",
      "  libssh2            conda-forge/osx-arm64::libssh2-1.11.0-h7a5bd25_0 \n",
      "  libthrift          conda-forge/osx-arm64::libthrift-0.20.0-h64651cc_1 \n",
      "  libtiff            conda-forge/osx-arm64::libtiff-4.6.0-hf8409c0_4 \n",
      "  libutf8proc        conda-forge/osx-arm64::libutf8proc-2.8.0-h1a8c8d9_0 \n",
      "  libwebp-base       conda-forge/osx-arm64::libwebp-base-1.4.0-h93a5062_0 \n",
      "  libxcb             conda-forge/osx-arm64::libxcb-1.16-hc9fafa5_1 \n",
      "  libxml2            conda-forge/osx-arm64::libxml2-2.12.7-h01dff8b_4 \n",
      "  libzip             conda-forge/osx-arm64::libzip-1.10.1-ha0bc3c6_3 \n",
      "  libzlib            conda-forge/osx-arm64::libzlib-1.3.1-hfb2fe0b_1 \n",
      "  llvm-openmp        conda-forge/osx-arm64::llvm-openmp-18.1.8-hde57baf_1 \n",
      "  locket             conda-forge/noarch::locket-1.0.0-pyhd8ed1ab_0 \n",
      "  lz4                conda-forge/osx-arm64::lz4-4.3.3-py311hebe0b09_1 \n",
      "  lz4-c              conda-forge/osx-arm64::lz4-c-1.9.4-hb7217d7_0 \n",
      "  lzo                conda-forge/osx-arm64::lzo-2.10-h93a5062_1001 \n",
      "  markupsafe         conda-forge/osx-arm64::markupsafe-2.1.5-py311h460d6c5_1 \n",
      "  matplotlib         conda-forge/osx-arm64::matplotlib-3.9.2-py311ha1ab1f8_0 \n",
      "  matplotlib-base    conda-forge/osx-arm64::matplotlib-base-3.9.2-py311hba6b155_0 \n",
      "  matplotlib-inline  conda-forge/noarch::matplotlib-inline-0.1.7-pyhd8ed1ab_0 \n",
      "  minizip            conda-forge/osx-arm64::minizip-4.0.7-h27ee973_0 \n",
      "  mistune            conda-forge/noarch::mistune-3.0.2-pyhd8ed1ab_0 \n",
      "  msgpack-python     conda-forge/osx-arm64::msgpack-python-1.0.8-py311h2c37856_1 \n",
      "  munkres            conda-forge/noarch::munkres-1.1.4-pyh9f0ad1d_0 \n",
      "  nbclient           conda-forge/noarch::nbclient-0.10.0-pyhd8ed1ab_0 \n",
      "  nbconvert-core     conda-forge/noarch::nbconvert-core-7.16.4-pyhd8ed1ab_1 \n",
      "  nbformat           conda-forge/noarch::nbformat-5.10.4-pyhd8ed1ab_0 \n",
      "  ncurses            conda-forge/osx-arm64::ncurses-6.5-h7bae524_1 \n",
      "  nest-asyncio       conda-forge/noarch::nest-asyncio-1.6.0-pyhd8ed1ab_0 \n",
      "  netcdf4            conda-forge/osx-arm64::netcdf4-1.7.1-nompi_py311he40982b_102 \n",
      "  notebook           conda-forge/noarch::notebook-7.2.2-pyhd8ed1ab_0 \n",
      "  notebook-shim      conda-forge/noarch::notebook-shim-0.2.4-pyhd8ed1ab_0 \n",
      "  nspr               conda-forge/osx-arm64::nspr-4.35-hb7217d7_0 \n",
      "  nss                conda-forge/osx-arm64::nss-3.104-hd1ce637_0 \n",
      "  numpy              conda-forge/osx-arm64::numpy-1.26.4-py311h7125741_0 \n",
      "  openjpeg           conda-forge/osx-arm64::openjpeg-2.5.2-h9f1df11_0 \n",
      "  openssl            conda-forge/osx-arm64::openssl-3.3.2-h8359307_0 \n",
      "  orc                conda-forge/osx-arm64::orc-2.0.2-h75dedd0_0 \n",
      "  overrides          conda-forge/noarch::overrides-7.7.0-pyhd8ed1ab_0 \n",
      "  packaging          conda-forge/noarch::packaging-24.1-pyhd8ed1ab_0 \n",
      "  pandas             conda-forge/osx-arm64::pandas-1.5.3-py311h4eec4a9_1 \n",
      "  pandocfilters      conda-forge/noarch::pandocfilters-1.5.0-pyhd8ed1ab_0 \n",
      "  parso              conda-forge/noarch::parso-0.8.4-pyhd8ed1ab_0 \n",
      "  partd              conda-forge/noarch::partd-1.4.2-pyhd8ed1ab_0 \n",
      "  pcre2              conda-forge/osx-arm64::pcre2-10.44-h297a79d_2 \n",
      "  pexpect            conda-forge/noarch::pexpect-4.9.0-pyhd8ed1ab_0 \n",
      "  pickleshare        conda-forge/noarch::pickleshare-0.7.5-py_1003 \n",
      "  pillow             conda-forge/osx-arm64::pillow-10.4.0-py311hd7951ec_0 \n",
      "  pip                conda-forge/noarch::pip-24.2-pyh8b19718_1 \n",
      "  pixman             conda-forge/osx-arm64::pixman-0.43.4-hebf3989_0 \n",
      "  pkgutil-resolve-n~ conda-forge/noarch::pkgutil-resolve-name-1.3.10-pyhd8ed1ab_1 \n",
      "  platformdirs       conda-forge/noarch::platformdirs-4.2.2-pyhd8ed1ab_0 \n",
      "  pooch              conda-forge/noarch::pooch-1.8.2-pyhd8ed1ab_0 \n",
      "  poppler            conda-forge/osx-arm64::poppler-24.08.0-h37b219d_1 \n",
      "  poppler-data       conda-forge/noarch::poppler-data-0.4.12-hd8ed1ab_0 \n",
      "  postgresql         conda-forge/osx-arm64::postgresql-16.4-ha29bbc8_1 \n",
      "  proj               conda-forge/osx-arm64::proj-9.4.1-hfb94cee_1 \n",
      "  prometheus_client  conda-forge/noarch::prometheus_client-0.20.0-pyhd8ed1ab_0 \n",
      "  prompt-toolkit     conda-forge/noarch::prompt-toolkit-3.0.47-pyha770c72_0 \n",
      "  prompt_toolkit     conda-forge/noarch::prompt_toolkit-3.0.47-hd8ed1ab_0 \n",
      "  psutil             conda-forge/osx-arm64::psutil-6.0.0-py311hd3f4193_0 \n",
      "  pthread-stubs      conda-forge/osx-arm64::pthread-stubs-0.4-h27ca646_1001 \n",
      "  ptyprocess         conda-forge/noarch::ptyprocess-0.7.0-pyhd3deb0d_0 \n",
      "  pure_eval          conda-forge/noarch::pure_eval-0.2.3-pyhd8ed1ab_0 \n",
      "  pyarrow            conda-forge/osx-arm64::pyarrow-17.0.0-py311h35c05fe_1 \n",
      "  pyarrow-core       conda-forge/osx-arm64::pyarrow-core-17.0.0-py311he42f270_1_cpu \n",
      "  pyarrow-hotfix     conda-forge/noarch::pyarrow-hotfix-0.6-pyhd8ed1ab_0 \n",
      "  pycparser          conda-forge/noarch::pycparser-2.22-pyhd8ed1ab_0 \n",
      "  pygments           conda-forge/noarch::pygments-2.18.0-pyhd8ed1ab_0 \n",
      "  pyobjc-core        conda-forge/osx-arm64::pyobjc-core-10.3.1-py311h5f135c3_0 \n",
      "  pyobjc-framework-~ conda-forge/osx-arm64::pyobjc-framework-cocoa-10.3.1-py311h5f135c3_0 \n",
      "  pyparsing          conda-forge/noarch::pyparsing-3.1.4-pyhd8ed1ab_0 \n",
      "  pysocks            conda-forge/noarch::pysocks-1.7.1-pyha2e5f31_6 \n",
      "  python             conda-forge/osx-arm64::python-3.11.9-h932a869_0_cpython \n",
      "  python-dateutil    conda-forge/noarch::python-dateutil-2.9.0-pyhd8ed1ab_0 \n",
      "  python-fastjsonsc~ conda-forge/noarch::python-fastjsonschema-2.20.0-pyhd8ed1ab_0 \n",
      "  python-json-logger conda-forge/noarch::python-json-logger-2.0.7-pyhd8ed1ab_0 \n",
      "  python_abi         conda-forge/osx-arm64::python_abi-3.11-5_cp311 \n",
      "  pytz               conda-forge/noarch::pytz-2024.1-pyhd8ed1ab_0 \n",
      "  pyyaml             conda-forge/osx-arm64::pyyaml-6.0.2-py311h460d6c5_1 \n",
      "  pyzmq              conda-forge/osx-arm64::pyzmq-26.2.0-py311h137d824_2 \n",
      "  qhull              conda-forge/osx-arm64::qhull-2020.2-h420ef59_5 \n",
      "  rasterio           conda-forge/osx-arm64::rasterio-1.3.11-py311h425640f_0 \n",
      "  re2                conda-forge/osx-arm64::re2-2023.09.01-h4cba328_2 \n",
      "  readline           conda-forge/osx-arm64::readline-8.2-h92ec313_1 \n",
      "  referencing        conda-forge/noarch::referencing-0.35.1-pyhd8ed1ab_0 \n",
      "  requests           conda-forge/noarch::requests-2.32.3-pyhd8ed1ab_0 \n",
      "  rfc3339-validator  conda-forge/noarch::rfc3339-validator-0.1.4-pyhd8ed1ab_0 \n",
      "  rfc3986-validator  conda-forge/noarch::rfc3986-validator-0.1.1-pyh9f0ad1d_0 \n",
      "  rockhound          conda-forge/noarch::rockhound-0.2.0-py_0 \n",
      "  rpds-py            conda-forge/osx-arm64::rpds-py-0.20.0-py311h481aa64_1 \n",
      "  scipy              conda-forge/osx-arm64::scipy-1.14.1-py311h2929bc6_0 \n",
      "  send2trash         conda-forge/noarch::send2trash-1.8.3-pyh31c8845_0 \n",
      "  setuptools         conda-forge/noarch::setuptools-73.0.1-pyhd8ed1ab_0 \n",
      "  six                conda-forge/noarch::six-1.16.0-pyh6c4a22f_0 \n",
      "  snappy             conda-forge/osx-arm64::snappy-1.2.1-hd02b534_0 \n",
      "  sniffio            conda-forge/noarch::sniffio-1.3.1-pyhd8ed1ab_0 \n",
      "  snuggs             conda-forge/noarch::snuggs-1.4.7-pyhd8ed1ab_1 \n",
      "  sortedcontainers   conda-forge/noarch::sortedcontainers-2.4.0-pyhd8ed1ab_0 \n",
      "  soupsieve          conda-forge/noarch::soupsieve-2.5-pyhd8ed1ab_1 \n",
      "  spdlog             conda-forge/osx-arm64::spdlog-1.14.1-h6d8af72_1 \n",
      "  sqlite             conda-forge/osx-arm64::sqlite-3.46.1-h3b4c4e4_0 \n",
      "  stack_data         conda-forge/noarch::stack_data-0.6.2-pyhd8ed1ab_0 \n",
      "  tblib              conda-forge/noarch::tblib-3.0.0-pyhd8ed1ab_0 \n",
      "  terminado          conda-forge/noarch::terminado-0.18.1-pyh31c8845_0 \n",
      "  tiledb             conda-forge/osx-arm64::tiledb-2.25.0-h3c94177_11 \n",
      "  tinycss2           conda-forge/noarch::tinycss2-1.3.0-pyhd8ed1ab_0 \n",
      "  tk                 conda-forge/osx-arm64::tk-8.6.13-h5083fa2_1 \n",
      "  tomli              conda-forge/noarch::tomli-2.0.1-pyhd8ed1ab_0 \n",
      "  toolz              conda-forge/noarch::toolz-0.12.1-pyhd8ed1ab_0 \n",
      "  tornado            conda-forge/osx-arm64::tornado-6.4.1-py311h460d6c5_1 \n",
      "  traitlets          conda-forge/noarch::traitlets-5.14.3-pyhd8ed1ab_0 \n",
      "  types-python-date~ conda-forge/noarch::types-python-dateutil-2.9.0.20240906-pyhd8ed1ab_0 \n",
      "  typing-extensions  conda-forge/noarch::typing-extensions-4.12.2-hd8ed1ab_0 \n",
      "  typing_extensions  conda-forge/noarch::typing_extensions-4.12.2-pyha770c72_0 \n",
      "  typing_utils       conda-forge/noarch::typing_utils-0.1.0-pyhd8ed1ab_0 \n",
      "  tzcode             conda-forge/osx-arm64::tzcode-2024b-hd74edd7_0 \n",
      "  tzdata             conda-forge/noarch::tzdata-2024a-h8827d51_1 \n",
      "  uri-template       conda-forge/noarch::uri-template-1.3.0-pyhd8ed1ab_0 \n",
      "  uriparser          conda-forge/osx-arm64::uriparser-0.9.8-h00cdb27_0 \n",
      "  urllib3            conda-forge/noarch::urllib3-2.2.2-pyhd8ed1ab_1 \n",
      "  wcwidth            conda-forge/noarch::wcwidth-0.2.13-pyhd8ed1ab_0 \n",
      "  webcolors          conda-forge/noarch::webcolors-24.8.0-pyhd8ed1ab_0 \n",
      "  webencodings       conda-forge/noarch::webencodings-0.5.1-pyhd8ed1ab_2 \n",
      "  websocket-client   conda-forge/noarch::websocket-client-1.8.0-pyhd8ed1ab_0 \n",
      "  wheel              conda-forge/noarch::wheel-0.44.0-pyhd8ed1ab_0 \n",
      "  widgetsnbextension conda-forge/noarch::widgetsnbextension-4.0.13-pyhd8ed1ab_0 \n",
      "  xarray             conda-forge/noarch::xarray-0.19.0-pyhd8ed1ab_1 \n",
      "  xerces-c           conda-forge/osx-arm64::xerces-c-3.2.5-h0a46525_1 \n",
      "  xorg-libxau        conda-forge/osx-arm64::xorg-libxau-1.0.11-hb547adb_0 \n",
      "  xorg-libxdmcp      conda-forge/osx-arm64::xorg-libxdmcp-1.1.3-h27ca646_0 \n",
      "  xyzservices        conda-forge/noarch::xyzservices-2024.9.0-pyhd8ed1ab_0 \n",
      "  xz                 conda-forge/osx-arm64::xz-5.2.6-h57fd34a_0 \n",
      "  yaml               conda-forge/osx-arm64::yaml-0.2.5-h3422bc3_2 \n",
      "  zeromq             conda-forge/osx-arm64::zeromq-4.3.5-h64debc3_5 \n",
      "  zict               conda-forge/noarch::zict-3.0.0-pyhd8ed1ab_0 \n",
      "  zipp               conda-forge/noarch::zipp-3.20.1-pyhd8ed1ab_0 \n",
      "  zlib               conda-forge/osx-arm64::zlib-1.3.1-hfb2fe0b_1 \n",
      "  zstandard          conda-forge/osx-arm64::zstandard-0.23.0-py311ha60cc69_1 \n",
      "  zstd               conda-forge/osx-arm64::zstd-1.5.6-hb46c0d2_0 \n",
      "\n",
      "\n",
      "Proceed ([y]/n)? ^C\n",
      "\n",
      "CondaSystemExit: \n",
      "Operation aborted.  Exiting.\n",
      "\n",
      "\n",
      "Note: you may need to restart the kernel to use updated packages.\n"
     ]
    }
   ],
   "source": [
    "conda create -n exercise4 python matplotlib numpy scipy xarray==0.19.0 pandas rockhound cmocean pip jupyter"
   ]
  },
  {
   "cell_type": "markdown",
   "id": "5c1c30ae",
   "metadata": {
    "editable": true
   },
   "source": [
    "Entering all the package names in one go when creating the environment forces conda\n",
    "to check for dependencies between the packages, and thus makes sure that there\n",
    "are no conflicts. After confirming that you want to install the packages,\n",
    "and waiting for some time, you can activate the new environment from the terminal\n",
    "like this:"
   ]
  },
  {
   "cell_type": "code",
   "execution_count": null,
   "id": "05a92fde",
   "metadata": {
    "collapsed": false,
    "editable": true
   },
   "outputs": [],
   "source": [
    "conda activate project1"
   ]
  },
  {
   "cell_type": "markdown",
   "id": "c3fb5010",
   "metadata": {
    "editable": true
   },
   "source": [
    "Note that you can install additional packages later if you wish. Often, it\n",
    "is as simple as typing"
   ]
  },
  {
   "cell_type": "code",
   "execution_count": null,
   "id": "a399aa20",
   "metadata": {
    "collapsed": false,
    "editable": true
   },
   "outputs": [],
   "source": [
    "conda install <package-name>"
   ]
  },
  {
   "cell_type": "markdown",
   "id": "a1ccd5a5",
   "metadata": {
    "editable": true
   },
   "source": [
    "Of course, you should always check the installation instructions for the\n",
    "package in question. If `conda install` fails it might be that\n",
    "you can install it via `pip` (`pip install <package-name>`), but sometimes\n",
    "mixing conda and pip can cause conflicts, so you should be a bit careful.\n",
    "\n",
    "## Selecting the correct Python version\n",
    "\n",
    "Each conda environment comes with its own installation directory,\n",
    "and with its own Python executable. As we have seen, on the command-line\n",
    "you can easily switch between different environments with the `conda activate`\n",
    "command.\n",
    "\n",
    "On the other hand, if you program in an integrated development environment (IDE),\n",
    "like [Spyder](https://www.spyder-ide.org),\n",
    "[PyCharm](https://www.jetbrains.com/pycharm/),\n",
    "or [Visual Studio Code](https://code.visualstudio.com) (VS Code),\n",
    "you will need to select which version of Python to use by changing the project\n",
    "settings in the IDE. For example, on VS Code, you can do this by opening\n",
    "the Command Palette, and then clicking on \"Python: Select Interpreter\".\n",
    "\n",
    "Similarly, if you are working with Jupyter notebooks in the web browser you\n",
    "will most likely have to do some extra work to be able to select your custom\n",
    "Python environments. [This link](https://stackoverflow.com/questions/39604271/conda-environments-not-showing-up-in-jupyter-notebook)\n",
    "might help you, e.g., you can try to type this in the terminal:"
   ]
  },
  {
   "cell_type": "markdown",
   "id": "c38d1167",
   "metadata": {
    "editable": true
   },
   "source": [
    "        conda activate project1\n",
    "        python -m ipykernel install --name project1\n"
   ]
  },
  {
   "cell_type": "markdown",
   "id": "7b71aebe",
   "metadata": {
    "editable": true
   },
   "source": [
    "If everything works, the new environent will now show up in the list of\n",
    "possible Python kernels for your Jupyter notebooks.\n",
    "\n",
    "# Guidelines for project submission\n",
    "\n",
    "You should bear the following points in mind when working on the project:\n",
    "* Write the name of all persons working in the group at the top of the notebook.\n",
    "\n",
    "* The final project report must start with an abstract, the abstract is a self contained summary of the project and should contain quantitative statements. \n",
    "\n",
    "* Start your notebook by providing a short introduction in which you outline the nature of the problem(s) to be investigated.\n",
    "\n",
    "* End your notebook with a brief summary of what you feel you learned from the project (if anything). Also, if you have any general comments or suggestions for what could be improved in future assignments, this is the place to do it.\n",
    "\n",
    "* All code that you make use of should be present in the notebook, and it should ideally execute without any errors (especially run-time errors). If you are not able to fix everything before the deadline, you should give your best understanding of what is not working, and how you might go about fixing it.\n",
    "\n",
    "* Avoid duplicating code! If you find yourself copying and pasting a lot of code, it is a strong indication that you should define reuseable functions and/or classes.\n",
    "\n",
    "* If you use an algorithm that is not fully described in the assignment text, you should try to explain it in your own words. This also applies if the method is described elsewhere in the course material.\n",
    "\n",
    "* In some cases it may suffice to explain your work via comments in the code itself, but other times you might want to include a more elaborate explanation in terms of, e.g., mathematics and/or pseudocode.\n",
    "\n",
    "* In general, it is a good habit to comment your code (though it can be overdone).\n",
    "\n",
    "* When working with approximate solutions to equations, it is very useful to check your results against known exact (analytical) solutions, should they be available.\n",
    "\n",
    "* It is also a good test of a model implementation to study what happens at known 'edge cases'.\n",
    "\n",
    "* Any figures you include should be easily understandable. You should label axes appropriately, and depending on the problem, include other legends etc. Also, you should discuss your figures in the main text.\n",
    "\n",
    "* It is always good if you can reflect a little bit around *why* you see what you see.\n",
    "\n",
    "# Bibliography\n",
    "1. <div id=\"goldberg1991every\"></div> **D. Goldberg**.  What Every Computer Scientist Should Know About Floating-Point Arithmetic, *ACM computing surveys (CSUR)*, 23(1), pp. 5-48, 1991.\n",
    "\n",
    "2. <div id=\"fretwell2013bedmap2\"></div> **P. Fretwell, H. D. Pritchard, D. G. Vaughan, J. L. Bamber, N. E. Barrand, R. Bell, C. Bianchi, R. Bingham, D. D. Blankenship and G. Casassa**.  Bedmap2: Improved Ice Bed, Surface and Thickness Datasets for Antarctica, *The Cryosphere*, 7(1), pp. 375-393, 2013.\n",
    "\n",
    "3. <div id=\"wengert1964simple\"></div> **R. E. Wengert**.  A Simple Automatic Derivative Evaluation Program, *Communications of the ACM*, 7(8), pp. 463-464, 1964.\n",
    "\n",
    "4. <div id=\"hiorth\"></div> **A. Hiorth**.  *Computational Engineering and Modeling*, https://github.com/ahiorth/CompEngineering, 2021.\n",
    "\n",
    "5. <div id=\"IPCC2021\"></div> **V. Masson-Delmotte, P. Zhai, A. Pirani, S. L. Connors, C. Pean, S. Berger, N. Caud, Y. Chen, L. Goldfarb, M. I. Gomis, M. Huang, K. Leitzell, E. Lonnoy, J. B. R. Matthews, T. K. Maycock, T. Waterfield, O. Yelekci, R. Yu and B. Z. (eds.)**.  Climate Change 2021: the Physical Science Basis. Contribution of Working Group I to the Sixth Assessment Report of the Intergovernmental Panel on Climate Change, *Cambridge University Press. In Press.*, 2021.\n",
    "\n",
    "6. <div id=\"thyng2016true\"></div> **K. M. Thyng, C. A. Greene, R. D. Hetland, H. M. Zimmerle and S. F. DiMarco**.  True Colors of Oceanography: Guidelines for Effective and Accurate Colormap Selection, *Oceanography*, 29(3), pp. 9-13, 2016.\n",
    "\n",
    "7. <div id=\"noerdlinger2007melting\"></div> **P. D. Noerdlinger and K. R. Brower**.  The Melting of Floating Ice Raises the Ocean Level, *Geophysical Journal International*, 170(1), pp. 145-150, 2007."
   ]
  }
 ],
 "metadata": {
  "kernelspec": {
   "display_name": "base",
   "language": "python",
   "name": "python3"
  },
  "language_info": {
   "codemirror_mode": {
    "name": "ipython",
    "version": 3
   },
   "file_extension": ".py",
   "mimetype": "text/x-python",
   "name": "python",
   "nbconvert_exporter": "python",
   "pygments_lexer": "ipython3",
   "version": "3.11.9"
  }
 },
 "nbformat": 4,
 "nbformat_minor": 5
}
